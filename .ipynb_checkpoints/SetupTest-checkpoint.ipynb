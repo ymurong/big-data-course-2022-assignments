{
 "cells": [
  {
   "cell_type": "markdown",
   "id": "f2fe953e",
   "metadata": {},
   "source": [
    "# Setup Test\n",
    "\n",
    "The goal of this notebook is to make sure that your local setup works and that you can successfully connect to the autograding server that we provide for later assignments."
   ]
  },
  {
   "cell_type": "markdown",
   "id": "9921a77e",
   "metadata": {},
   "source": [
    "### Before you begin - automark\n",
    "\n",
    "To check whether the code you've written is correct, we'll use **automark**. For this, we created for each of you an account with the username being your student number. "
   ]
  },
  {
   "cell_type": "code",
   "execution_count": 1,
   "id": "55b0f890",
   "metadata": {},
   "outputs": [
    {
     "name": "stdout",
     "output_type": "stream",
     "text": [
      "----------------------------------------------------------------------\n",
      "| Murong, Yanchao                                                    |\n",
      "----------------------------------------------------------------------\n",
      "| a0_t1_sailor_avg_experience                       | not attempted  |\n",
      "| a0_t2_sailor_avg_experience_pyspark               | not attempted  |\n",
      "| a1a_t1_all_model_number_b                         | not attempted  |\n",
      "| a1a_t2_all_model_number_not_b                     | not attempted  |\n",
      "| a1a_t3_avg_PCs_speed                              | not attempted  |\n",
      "| a1a_t4_max_printer_price                          | not attempted  |\n",
      "| a1a_t5_min_spending_visa                          | not attempted  |\n",
      "| a1a_t6_customer_id                                | not attempted  |\n",
      "| a1a_t7_highest_price_USD                          | not attempted  |\n",
      "| a1b_t1a_at_least_four_products                    | not attempted  |\n",
      "| a1b_t1b_decending_speed_laptop                    | not attempted  |\n",
      "| a1b_t1c_customer_number_purchase                  | not attempted  |\n",
      "| a1b_t1d_maker_with_ram                            | not attempted  |\n",
      "| a1b_t2a_avg_money_spent                           | not attempted  |\n",
      "| a1b_t2b_maximum_price_printer                     | not attempted  |\n",
      "| a2_t1a_max_measurement_per_sensor                 | not attempted  |\n",
      "| a2_t1b_global_max_measurement                     | not attempted  |\n",
      "| a2_t2_commacount                                  | not attempted  |\n",
      "| a2_t3_max_weekly_visitors                         | not attempted  |\n",
      "| a2_t4a_compute_max_value_per_sensor               | not attempted  |\n",
      "| a2_t4b_compute_global_max_value                   | not attempted  |\n",
      "| a2_t5_compute_max_weekly_visitors                 | not attempted  |\n",
      "| a2_t6_customers_with_certain_visa_payment         | not attempted  |\n",
      "| a2_t7_find_payment_types                          | not attempted  |\n",
      "| a2_t8_quantities_per_city                         | not attempted  |\n",
      "----------------------------------------------------------------------\n"
     ]
    }
   ],
   "source": [
    "import automark as am\n",
    "\n",
    "# fill in you student number as your username\n",
    "am.configure(username='14090759')\n",
    "\n",
    "# to check your progress, you can run this function\n",
    "am.get_progress()"
   ]
  },
  {
   "cell_type": "markdown",
   "id": "cd3c961b",
   "metadata": {},
   "source": [
    "### SQL with DuckDB - Setup test\n",
    "\n",
    "First, we test whether the embedded database [DuckDB](https://duckdb.org/) works on your machine, which lets us write SQL queries.\n"
   ]
  },
  {
   "cell_type": "code",
   "execution_count": 2,
   "id": "8c21fa06",
   "metadata": {},
   "outputs": [
    {
     "data": {
      "text/html": [
       "<div>\n",
       "<style scoped>\n",
       "    .dataframe tbody tr th:only-of-type {\n",
       "        vertical-align: middle;\n",
       "    }\n",
       "\n",
       "    .dataframe tbody tr th {\n",
       "        vertical-align: top;\n",
       "    }\n",
       "\n",
       "    .dataframe thead th {\n",
       "        text-align: right;\n",
       "    }\n",
       "</style>\n",
       "<table border=\"1\" class=\"dataframe\">\n",
       "  <thead>\n",
       "    <tr style=\"text-align: right;\">\n",
       "      <th></th>\n",
       "      <th>sid</th>\n",
       "      <th>sname</th>\n",
       "      <th>experience</th>\n",
       "      <th>age</th>\n",
       "    </tr>\n",
       "  </thead>\n",
       "  <tbody>\n",
       "    <tr>\n",
       "      <th>0</th>\n",
       "      <td>1</td>\n",
       "      <td>Fred</td>\n",
       "      <td>7</td>\n",
       "      <td>22</td>\n",
       "    </tr>\n",
       "    <tr>\n",
       "      <th>1</th>\n",
       "      <td>2</td>\n",
       "      <td>Nancy</td>\n",
       "      <td>2</td>\n",
       "      <td>39</td>\n",
       "    </tr>\n",
       "    <tr>\n",
       "      <th>2</th>\n",
       "      <td>3</td>\n",
       "      <td>Ji</td>\n",
       "      <td>8</td>\n",
       "      <td>27</td>\n",
       "    </tr>\n",
       "  </tbody>\n",
       "</table>\n",
       "</div>"
      ],
      "text/plain": [
       "   sid  sname  experience  age\n",
       "0    1   Fred           7   22\n",
       "1    2  Nancy           2   39\n",
       "2    3     Ji           8   27"
      ]
     },
     "execution_count": 2,
     "metadata": {},
     "output_type": "execute_result"
    }
   ],
   "source": [
    "import duckdb\n",
    "import pandas as pd\n",
    "\n",
    "sailors_data = {\n",
    "    'sid': [1, 2, 3],\n",
    "    'sname': [\"Fred\", \"Nancy\", \"Ji\"],\n",
    "    'experience': [7, 2, 8],\n",
    "    'age': [22, 39, 27]\n",
    "}\n",
    "\n",
    "sailors = pd.DataFrame.from_dict(sailors_data)\n",
    "\n",
    "sailors"
   ]
  },
  {
   "cell_type": "markdown",
   "id": "2917addb",
   "metadata": {},
   "source": [
    "The following helper function allows us to run queries on the database:"
   ]
  },
  {
   "cell_type": "code",
   "execution_count": 3,
   "id": "3aa45079",
   "metadata": {},
   "outputs": [],
   "source": [
    "def execute_local(query):\n",
    "    con = duckdb.connect(database=':memory:', read_only=False)\n",
    "    con.register('sailors', sailors)\n",
    "\n",
    "    result = con.execute(query).fetchdf()\n",
    "    \n",
    "    return result"
   ]
  },
  {
   "cell_type": "markdown",
   "id": "a9bdcb29",
   "metadata": {},
   "source": [
    "#### Test task\n",
    "\n",
    "In this test task, we compute the average experience of sailors that are less than 35 years old. Copy the following SQL query into the appropriate location in the `a0_t1_sailor_avg_experience` function below.\n",
    "\n",
    "`SELECT AVG(experience) FROM sailors WHERE age < 35;`"
   ]
  },
  {
   "cell_type": "code",
   "execution_count": 5,
   "id": "b2c36fd7",
   "metadata": {},
   "outputs": [],
   "source": [
    "def a0_t1_sailor_avg_experience():\n",
    "    query = '''\n",
    "    SELECT AVG(experience) FROM sailors WHERE age < 35;\n",
    "    '''\n",
    "\n",
    "    return query"
   ]
  },
  {
   "cell_type": "markdown",
   "id": "cf19961a",
   "metadata": {},
   "source": [
    "Now you can test the query on the local `sailors` data via the helper function. This should return a single tuple with an attribute `avg(experience)` and a value of 7.5."
   ]
  },
  {
   "cell_type": "code",
   "execution_count": 6,
   "id": "fbc3d374",
   "metadata": {},
   "outputs": [
    {
     "data": {
      "text/html": [
       "<div>\n",
       "<style scoped>\n",
       "    .dataframe tbody tr th:only-of-type {\n",
       "        vertical-align: middle;\n",
       "    }\n",
       "\n",
       "    .dataframe tbody tr th {\n",
       "        vertical-align: top;\n",
       "    }\n",
       "\n",
       "    .dataframe thead th {\n",
       "        text-align: right;\n",
       "    }\n",
       "</style>\n",
       "<table border=\"1\" class=\"dataframe\">\n",
       "  <thead>\n",
       "    <tr style=\"text-align: right;\">\n",
       "      <th></th>\n",
       "      <th>avg(experience)</th>\n",
       "    </tr>\n",
       "  </thead>\n",
       "  <tbody>\n",
       "    <tr>\n",
       "      <th>0</th>\n",
       "      <td>7.5</td>\n",
       "    </tr>\n",
       "  </tbody>\n",
       "</table>\n",
       "</div>"
      ],
      "text/plain": [
       "   avg(experience)\n",
       "0              7.5"
      ]
     },
     "execution_count": 6,
     "metadata": {},
     "output_type": "execute_result"
    }
   ],
   "source": [
    "execute_local(a0_t1_sailor_avg_experience())"
   ]
  },
  {
   "cell_type": "markdown",
   "id": "43869c57",
   "metadata": {},
   "source": [
    "Finally, you can have the autograding server test your function by executing the following cell."
   ]
  },
  {
   "cell_type": "code",
   "execution_count": 7,
   "id": "d124ed7f",
   "metadata": {},
   "outputs": [
    {
     "name": "stdout",
     "output_type": "stream",
     "text": [
      "Downloading local tests...\n",
      "Local tests are downloaded.\n",
      "Running local tests...\n",
      "a0_t1_sailor_avg_experience successfully passed local tests\n",
      "Running remote test...\n",
      "Test was successful. Congratulations!\n"
     ]
    }
   ],
   "source": [
    "am.test_student_function(a0_t1_sailor_avg_experience)"
   ]
  },
  {
   "cell_type": "markdown",
   "id": "33e78a6d",
   "metadata": {},
   "source": [
    "### Dataflows with PySpark - Setup Test \n",
    "\n",
    "Next, we test whether you can run [PySpark](https://spark.apache.org/docs/latest/api/python/) programs locally on your computer. For that, we setup a local Pyspark session first.\n",
    "\n",
    "Note that you can ignore the following warnings that might occur when executing the next cell:\n",
    "\n",
    "```\n",
    "WARNING: An illegal reflective access operation has occurred\n",
    "WARNING: Illegal reflective access by org.apache.spark.unsafe.Platform (file:/usr/local/spark-3.2.0-bin-hadoop3.2/jars/spark-unsafe_2.12-3.2.0.jar) to constructor java.nio.DirectByteBuffer(long,int)\n",
    "WARNING: Please consider reporting this to the maintainers of org.apache.spark.unsafe.Platform\n",
    "WARNING: Use --illegal-access=warn to enable warnings of further illegal reflective access operations\n",
    "WARNING: All illegal access operations will be denied in a future release\n",
    "```\n",
    "\n",
    "and\n",
    "\n",
    "```\n",
    " WARN NativeCodeLoader: Unable to load native-hadoop library for your platform... using builtin-java classes where applicable\n",
    "```"
   ]
  },
  {
   "cell_type": "code",
   "execution_count": 8,
   "id": "6ab25d9a",
   "metadata": {},
   "outputs": [
    {
     "name": "stderr",
     "output_type": "stream",
     "text": [
      "WARNING: An illegal reflective access operation has occurred\n",
      "WARNING: Illegal reflective access by org.apache.spark.unsafe.Platform (file:/usr/local/spark-3.2.0-bin-hadoop3.2/jars/spark-unsafe_2.12-3.2.0.jar) to constructor java.nio.DirectByteBuffer(long,int)\n",
      "WARNING: Please consider reporting this to the maintainers of org.apache.spark.unsafe.Platform\n",
      "WARNING: Use --illegal-access=warn to enable warnings of further illegal reflective access operations\n",
      "WARNING: All illegal access operations will be denied in a future release\n",
      "Using Spark's default log4j profile: org/apache/spark/log4j-defaults.properties\n",
      "Setting default log level to \"WARN\".\n",
      "To adjust logging level use sc.setLogLevel(newLevel). For SparkR, use setLogLevel(newLevel).\n",
      "23/02/06 21:43:51 WARN NativeCodeLoader: Unable to load native-hadoop library for your platform... using builtin-java classes where applicable\n"
     ]
    }
   ],
   "source": [
    "from pyspark.sql import SparkSession\n",
    "from pyspark.sql import Row\n",
    "\n",
    "spark = SparkSession.builder \\\n",
    "    .master(\"local\") \\\n",
    "    .config(\"spark.driver.bindAddress\", \"127.0.0.1\") \\\n",
    "    .getOrCreate()"
   ]
  },
  {
   "cell_type": "markdown",
   "id": "d1d3ceb1",
   "metadata": {},
   "source": [
    "Next, we turn our sailors data into a PySpark dataframe."
   ]
  },
  {
   "cell_type": "code",
   "execution_count": 9,
   "id": "603eb12c",
   "metadata": {},
   "outputs": [],
   "source": [
    "sailors_df = spark.createDataFrame(sailors)"
   ]
  },
  {
   "cell_type": "markdown",
   "id": "c8f1aff6",
   "metadata": {},
   "source": [
    "#### Test task\n",
    "\n",
    "In this test task, we again compute the average experience of sailors that are less than 35 years old. Copy the following pyspark code into the appropriate location in the `a0_t2_sailor_avg_experience_pyspark` function below.\n",
    "\n",
    "`return sailors_data.filter(sailors_data['age'] < 35).agg({\"experience\": \"avg\"})`"
   ]
  },
  {
   "cell_type": "code",
   "execution_count": null,
   "id": "8ffa27fd",
   "metadata": {},
   "outputs": [],
   "source": [
    "def a0_t2_sailor_avg_experience_pyspark(sailors_data):\n",
    "    return sailors_data.filter(sailors_data['age'] < 35).agg({\"experience\": \"avg\"})"
   ]
  },
  {
   "cell_type": "markdown",
   "id": "c6d1bd4e",
   "metadata": {},
   "source": [
    "Now you can test the spark program on the local `sailors_df` data. This should again return a single tuple with an attribute `avg(experience)` and a value of 7.5."
   ]
  },
  {
   "cell_type": "code",
   "execution_count": null,
   "id": "808dd4c3",
   "metadata": {},
   "outputs": [],
   "source": [
    "result = a0_t2_sailor_avg_experience_pyspark(sailors_df)\n",
    "result.toPandas()"
   ]
  },
  {
   "cell_type": "markdown",
   "id": "914fb73c",
   "metadata": {},
   "source": [
    "Finally, you can have the autograding server test your function by executing the following cell."
   ]
  },
  {
   "cell_type": "code",
   "execution_count": null,
   "id": "ce4a7737",
   "metadata": {},
   "outputs": [],
   "source": [
    "am.test_student_function(a0_t2_sailor_avg_experience_pyspark)"
   ]
  }
 ],
 "metadata": {
  "kernelspec": {
   "display_name": "Python 3 (ipykernel)",
   "language": "python",
   "name": "python3"
  },
  "language_info": {
   "codemirror_mode": {
    "name": "ipython",
    "version": 3
   },
   "file_extension": ".py",
   "mimetype": "text/x-python",
   "name": "python",
   "nbconvert_exporter": "python",
   "pygments_lexer": "ipython3",
   "version": "3.9.7"
  }
 },
 "nbformat": 4,
 "nbformat_minor": 5
}
