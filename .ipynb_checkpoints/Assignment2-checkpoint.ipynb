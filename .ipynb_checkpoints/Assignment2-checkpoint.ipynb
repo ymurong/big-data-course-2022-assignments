{
 "cells": [
  {
   "cell_type": "markdown",
   "id": "6010828a",
   "metadata": {
    "pycharm": {
     "name": "#%% md\n"
    }
   },
   "source": [
    "### Before you begin\n",
    "\n",
    "To check whether the code you've written is correct, we'll again use automark. Please update the username in the cell below with your student number. \n",
    "\n",
    "\n",
    "### Troubleshooting\n",
    "\n",
    "In the Spark tasks in this assignment, Spark might randomly crash if it doesn't have enough memory available. If you encounter issues like that when working on the tasks today, we suggest increasing the amount of memory available to the docker image to 4gb or more. If you are using docker-for-windows or docker-for-mac, you can easily increase it from the Whale 🐳 icon in the task bar, then go to Preferences -> Resources.\n",
    "\n",
    "Note that passing a command line argument like `-m 4g` when running `docker run ...` does only work for limiting the memory to even lower values than the limit in your Docker Resource Preferences, and does not work for relaxing the limit that is set in these Preferences. For more information, please refer to the Docker [documentation](https://docs.docker.com/config/containers/resource_constraints/)."
   ]
  },
  {
   "cell_type": "code",
   "execution_count": 165,
   "id": "66585a61",
   "metadata": {
    "pycharm": {
     "name": "#%%\n"
    }
   },
   "outputs": [
    {
     "name": "stdout",
     "output_type": "stream",
     "text": [
      "----------------------------------------------------------------------\n",
      "| Murong, Yanchao                                                    |\n",
      "----------------------------------------------------------------------\n",
      "| a0_t1_sailor_avg_experience                       | completed      |\n",
      "| a0_t2_sailor_avg_experience_pyspark               | completed      |\n",
      "| a1a_t1_all_model_number_b                         | completed      |\n",
      "| a1a_t2_all_model_number_not_b                     | completed      |\n",
      "| a1a_t3_avg_PCs_speed                              | completed      |\n",
      "| a1a_t4_max_printer_price                          | completed      |\n",
      "| a1a_t5_min_spending_visa                          | completed      |\n",
      "| a1a_t6_customer_id                                | completed      |\n",
      "| a1a_t7_highest_price_USD                          | completed      |\n",
      "| a1b_t1a_at_least_four_products                    | completed      |\n",
      "| a1b_t1b_decending_speed_laptop                    | completed      |\n",
      "| a1b_t1c_customer_number_purchase                  | completed      |\n",
      "| a1b_t1d_maker_with_ram                            | completed      |\n",
      "| a1b_t2a_avg_money_spent                           | completed      |\n",
      "| a1b_t2b_maximum_price_printer                     | completed      |\n",
      "| a2_t1a_max_measurement_per_sensor                 | completed      |\n",
      "| a2_t1b_global_max_measurement                     | completed      |\n",
      "| a2_t2_commacount                                  | completed      |\n",
      "| a2_t3_max_weekly_visitors                         | completed      |\n",
      "| a2_t4a_compute_max_value_per_sensor               | completed      |\n",
      "| a2_t4b_compute_global_max_value                   | completed      |\n",
      "| a2_t5_compute_max_weekly_visitors                 | completed      |\n",
      "| a2_t6_customers_with_certain_visa_payment         | completed      |\n",
      "| a2_t7_find_payment_types                          | not attempted  |\n",
      "| a2_t8_quantities_per_city                         | completed      |\n",
      "----------------------------------------------------------------------\n"
     ]
    }
   ],
   "source": [
    "import automark as am\n",
    "import math\n",
    "\n",
    "# fill in you student number as your username\n",
    "am.configure(username='14090759')\n",
    "\n",
    "# to check your progress, you can run this function\n",
    "am.get_progress()"
   ]
  },
  {
   "cell_type": "markdown",
   "id": "bb4bab27",
   "metadata": {
    "pycharm": {
     "name": "#%% md\n"
    }
   },
   "source": [
    "# Part A - MapReduce"
   ]
  },
  {
   "cell_type": "markdown",
   "id": "91d1e374",
   "metadata": {
    "pycharm": {
     "name": "#%% md\n"
    }
   },
   "source": [
    "## Our MapReduce Engine\n",
    "\n",
    "Real-world MapReduce systems like [Apache Hadoop](https://hadoop.apache.org/) are tedious to install and debug, and require code in a programming language like Java. For the sake of simplicity and to allow for easy debugging, we work with our own local, non-parallel MapReduce engine written in Python. Note that your MapReduce programs (if written correctly) would also work in distributed mode on a real cluster.\n",
    "\n",
    "In the following, we ask you to implement several mapreduce programs and run them via this simple MapReduce engine."
   ]
  },
  {
   "cell_type": "code",
   "execution_count": 2,
   "id": "d1fbd5a9",
   "metadata": {
    "pycharm": {
     "name": "#%%\n"
    }
   },
   "outputs": [],
   "source": [
    "def mapreduce(input_partitions, f_map, f_reduce, num_reducers=2, print_debug_text=False):\n",
    "    if print_debug_text: print(\"---Starting MAP-phase.---\")\n",
    "    # These arrays will hold the outputs of the map-phase for each input partition\n",
    "    map_output_partitions = []\n",
    "    # We are running the map-phase on each input partition now. In a real mapreduce system, this would run\n",
    "    # in parallel on different machines.\n",
    "    for counter, input_partition in enumerate(input_partitions):\n",
    "        # suppose input_partition contains a list of documents\n",
    "        if print_debug_text: print(f\"  Applying f_map to input partition {counter}\")\n",
    "        map_output = []\n",
    "        # We apply f_map to each (key, value) pair in the input partition, and store the corresponding outputs\n",
    "        for key, value in input_partition:\n",
    "            # suppose that key refers to doc_id and value refers to document content\n",
    "            if print_debug_text: print(f\"    f_map({key}, {value}) -> \")\n",
    "            for mapped_key, mapped_value in f_map(key, value):\n",
    "                # suppose mapped_key is the token and mapped_value is 1 (count to be reduced)\n",
    "                if print_debug_text: print(f\"      ({mapped_key}, {mapped_value})\")\n",
    "                map_output.append((mapped_key, mapped_value))\n",
    "        # Store output partition of this map operation        \n",
    "        map_output_partitions.append(map_output)        \n",
    "    \n",
    "    # Next, we start the shuffle phase. We need to create several reducer partitions from the map outputs, \n",
    "    # assign each key to a partition and collect all the values for this key.\n",
    "    if print_debug_text: print(\"\\n---Starting SHUFFLE-phase.---\")\n",
    "    reduce_input_partitions = []\n",
    "    # We create as many reducer partitions as specified by num_reducers\n",
    "    for _ in range(0, num_reducers):\n",
    "        target_partition = dict()\n",
    "        reduce_input_partitions.append(target_partition)\n",
    "        \n",
    "    # We shuffle each map output partition now. In a real mapreduce system, this would run\n",
    "    # in parallel on different machines.\n",
    "    for counter, map_output_partition in enumerate(map_output_partitions):\n",
    "        if print_debug_text: print(f\"  Shuffling map output input partition {counter}\")    \n",
    "        # We process each (key, value) pair from the map-output here\n",
    "        for key, value in map_output_partition:\n",
    "            # suppose key here is the token, value is the count(1)\n",
    "            # We determine the target partition for this key via hash-partitioning\n",
    "            target_partition_index = abs(hash(key)) % num_reducers\n",
    "            if print_debug_text: print(f\"    Assigning key [{key}] to reducer input {target_partition_index} via hash-partitioning\")            \n",
    "            # We add the value to the group of the key in the target partition\n",
    "            target_partition = reduce_input_partitions[target_partition_index]\n",
    "            if not key in target_partition:\n",
    "                target_partition[key] = []            \n",
    "            target_partition[key].append(value)\n",
    "            # target_partition would contain {token: [1,1,1,1, ...],...}\n",
    "            # reduce_input_partitions contains list of target_partition, one target_partition corresponds to one reducer\n",
    "    \n",
    "    # Next, we run the reduce-phase\n",
    "    if print_debug_text: print(\"\\n---Starting REDUCE-phase.---\")\n",
    "    reduce_output_partitions = []\n",
    "        \n",
    "    # We reduce each reduce partition now. In a real mapreduce system, this would run\n",
    "    # in parallel on different machines.            \n",
    "    for counter, reduce_input_partition in enumerate(reduce_input_partitions):\n",
    "        # suppose reduce_input_partition refers to the list of postings(token, 1) for given partition\n",
    "        reduce_output = [] # it will contain a list of tuples (token, count) for given partition\n",
    "        if print_debug_text: print(f\"  Applying f_reduce to reduce_input partition {counter}\")    \n",
    "        # We apply f_reduce to each key and its corresponding values now and collect the results\n",
    "        for key, values in reduce_input_partition.items():\n",
    "            # suppose key is the token, values is the count list [1,1,1,1,...]\n",
    "            if print_debug_text: print(f\"    f_reduce({key}, {values}) -> \")\n",
    "            for reduced_key, reduced_value in f_reduce(key, values):\n",
    "                if print_debug_text: print(f\"      ({reduced_key}, {reduced_value})\")\n",
    "                reduce_output.append((reduced_key, reduced_value))\n",
    "        reduce_output_partitions.append(reduce_output)\n",
    "        \n",
    "    return reduce_output_partitions    # mutilple list of tuples (token, count) for each partition"
   ]
  },
  {
   "cell_type": "markdown",
   "id": "4378f50d",
   "metadata": {
    "pycharm": {
     "name": "#%% md\n"
    }
   },
   "source": [
    "The following is a helper function for local testing, which checks the size of the result of a mapreduce job and tests where certain keys are present and have the expected value."
   ]
  },
  {
   "cell_type": "code",
   "execution_count": 3,
   "id": "5352194d",
   "metadata": {
    "pycharm": {
     "name": "#%%\n"
    }
   },
   "outputs": [],
   "source": [
    "def verify_locally(mapreduce_result, expected_num_keys, expected_keys_and_values):\n",
    "    print(\"\\nRESULT VERIFICATION:\")\n",
    "    results_by_key = {}\n",
    "    for partition in mapreduce_result:\n",
    "        for key, value in partition:\n",
    "            results_by_key[key] = value\n",
    "\n",
    "    if len(results_by_key) != expected_num_keys:\n",
    "        print(f\"  ERROR: Expected {len(expected_keys_and_values)} keys in the output, but found {len(results_by_key)}!\")\n",
    "\n",
    "    for key_of_interest, expected_value in expected_keys_and_values:\n",
    "        if key_of_interest not in results_by_key:\n",
    "            print(f\"  ERROR: Unable to find key [{key_of_interest}] in result!\")\n",
    "        else:\n",
    "            observed_value = results_by_key[key_of_interest]\n",
    "            if isinstance(expected_value, (float, int)):\n",
    "                if not math.isclose(expected_value, observed_value, rel_tol=1e-5, abs_tol=1e-5):\n",
    "                    print(f\"  ERROR: Key [{key_of_interest}] has unexpected value [{observed_value}]!\")\n",
    "                else:\n",
    "                    print(f\"  PASS: Key [{key_of_interest}] has expected value!\")\n",
    "            else:\n",
    "                if expected_value is not observed_value:\n",
    "                    print(f\"  ERROR: Key [{key_of_interest}] has unexpected value [{observed_value}]!\")\n",
    "                else:\n",
    "                    print(f\"  PASS: Key [{key_of_interest}] has expected value!\")"
   ]
  },
  {
   "cell_type": "markdown",
   "id": "5b0391cc",
   "metadata": {
    "pycharm": {
     "name": "#%% md\n"
    }
   },
   "source": [
    "## WordCount - the \"Hello World\" of MapReduce\n",
    "\n",
    "Before we ask you to write your own MapReduce program, you should first investigate the example from our lecture. \n",
    "\n",
    "Our input are two partitions of key value pairs denoting documents, where the document is the key, and the value is text of the document. "
   ]
  },
  {
   "cell_type": "code",
   "execution_count": 4,
   "id": "c92132a7",
   "metadata": {
    "pycharm": {
     "name": "#%%\n"
    }
   },
   "outputs": [],
   "source": [
    "partitioned_documents = [\n",
    "    # Input partition 0\n",
    "    [\n",
    "        (1, \"the shawshank redemption\"),\n",
    "        (2, \"the godfather\")\n",
    "    ],\n",
    "    # Input partition 1\n",
    "    [\n",
    "        (3, \"the godfather part two\")\n",
    "    ]\n",
    "]"
   ]
  },
  {
   "cell_type": "markdown",
   "id": "0000be81",
   "metadata": {
    "pycharm": {
     "name": "#%% md\n"
    }
   },
   "source": [
    "We want to count the number of occurrences of each word using mapreduce. The following code shows the corresponding functions `f_map` and `f_reduce`.  The `f_map` function split the text into words and emits a key value pair `(word, 1)` for each word it finds. The `f_reduce` function receives a word as key and its associated counts, and computes the total number of occurrences from that."
   ]
  },
  {
   "cell_type": "code",
   "execution_count": 7,
   "id": "172dd533",
   "metadata": {
    "pycharm": {
     "name": "#%%\n"
    }
   },
   "outputs": [],
   "source": [
    "def wordcount_f_map(doc_id, text):   \n",
    "    output_tuples = []\n",
    "    for word in text.split(\" \"):\n",
    "        output_tuples.append((word, 1))\n",
    "    return output_tuples        \n",
    "\n",
    "def wordcount_f_reduce(word, counts):\n",
    "    total_count = 0\n",
    "    for count in counts:\n",
    "        total_count += count\n",
    "    return [(word, total_count)]"
   ]
  },
  {
   "cell_type": "markdown",
   "id": "9960b810",
   "metadata": {
    "pycharm": {
     "name": "#%% md\n"
    }
   },
   "source": [
    "Next, we will execute the program in the next cell. The following diagram shows the flow of data during the execution of our MapReduce program. After execution, look at the log outputs of our engine and compare them to the diagram. Can you see the correspondence?\n",
    "\n",
    "![title](wordcount.png)"
   ]
  },
  {
   "cell_type": "code",
   "execution_count": 8,
   "id": "98a79a0a",
   "metadata": {
    "pycharm": {
     "name": "#%%\n"
    }
   },
   "outputs": [
    {
     "name": "stdout",
     "output_type": "stream",
     "text": [
      "---Starting MAP-phase.---\n",
      "  Applying f_map to input partition 0\n",
      "    f_map(1, the shawshank redemption) -> \n",
      "      (the, 1)\n",
      "      (shawshank, 1)\n",
      "      (redemption, 1)\n",
      "    f_map(2, the godfather) -> \n",
      "      (the, 1)\n",
      "      (godfather, 1)\n",
      "  Applying f_map to input partition 1\n",
      "    f_map(3, the godfather part two) -> \n",
      "      (the, 1)\n",
      "      (godfather, 1)\n",
      "      (part, 1)\n",
      "      (two, 1)\n",
      "\n",
      "---Starting SHUFFLE-phase.---\n",
      "  Shuffling map output input partition 0\n",
      "    Assigning key [the] to reducer input 1 via hash-partitioning\n",
      "    Assigning key [shawshank] to reducer input 1 via hash-partitioning\n",
      "    Assigning key [redemption] to reducer input 1 via hash-partitioning\n",
      "    Assigning key [the] to reducer input 1 via hash-partitioning\n",
      "    Assigning key [godfather] to reducer input 1 via hash-partitioning\n",
      "  Shuffling map output input partition 1\n",
      "    Assigning key [the] to reducer input 1 via hash-partitioning\n",
      "    Assigning key [godfather] to reducer input 1 via hash-partitioning\n",
      "    Assigning key [part] to reducer input 1 via hash-partitioning\n",
      "    Assigning key [two] to reducer input 1 via hash-partitioning\n",
      "\n",
      "---Starting REDUCE-phase.---\n",
      "  Applying f_reduce to reduce_input partition 0\n",
      "  Applying f_reduce to reduce_input partition 1\n",
      "    f_reduce(the, [1, 1, 1]) -> \n",
      "      (the, 3)\n",
      "    f_reduce(shawshank, [1]) -> \n",
      "      (shawshank, 1)\n",
      "    f_reduce(redemption, [1]) -> \n",
      "      (redemption, 1)\n",
      "    f_reduce(godfather, [1, 1]) -> \n",
      "      (godfather, 2)\n",
      "    f_reduce(part, [1]) -> \n",
      "      (part, 1)\n",
      "    f_reduce(two, [1]) -> \n",
      "      (two, 1)\n"
     ]
    }
   ],
   "source": [
    "wordcount_result = mapreduce(partitioned_documents, wordcount_f_map, wordcount_f_reduce, print_debug_text=True)"
   ]
  },
  {
   "cell_type": "markdown",
   "id": "9c3a6a9b",
   "metadata": {
    "pycharm": {
     "name": "#%% md\n"
    }
   },
   "source": [
    "Test your program by running the following cell, which checks whether your program produces the correct output for our example data."
   ]
  },
  {
   "cell_type": "code",
   "execution_count": 10,
   "id": "ba39b745-cd9d-428a-b2b4-53a481bfe5d4",
   "metadata": {},
   "outputs": [
    {
     "data": {
      "text/plain": [
       "[[],\n",
       " [('the', 3),\n",
       "  ('shawshank', 1),\n",
       "  ('redemption', 1),\n",
       "  ('godfather', 2),\n",
       "  ('part', 1),\n",
       "  ('two', 1)]]"
      ]
     },
     "execution_count": 10,
     "metadata": {},
     "output_type": "execute_result"
    }
   ],
   "source": [
    "wordcount_result"
   ]
  },
  {
   "cell_type": "code",
   "execution_count": 9,
   "id": "6943c63a",
   "metadata": {
    "pycharm": {
     "name": "#%%\n"
    }
   },
   "outputs": [
    {
     "name": "stdout",
     "output_type": "stream",
     "text": [
      "\n",
      "RESULT VERIFICATION:\n",
      "  PASS: Key [the] has expected value!\n",
      "  PASS: Key [godfather] has expected value!\n",
      "  PASS: Key [two] has expected value!\n"
     ]
    }
   ],
   "source": [
    "verify_locally(wordcount_result, 6, [(\"the\", 3), (\"godfather\", 2), (\"two\", 1)])"
   ]
  },
  {
   "cell_type": "markdown",
   "id": "d594a706",
   "metadata": {
    "pycharm": {
     "name": "#%% md\n"
    }
   },
   "source": [
    "## Task 1: Sensor Measurements\n",
    "\n",
    "In the following, we ask you to write some mapreduce programs of your own. In the first task, we will work with sensor data. We have a couple of __sensors__ that have a name and produce some numerical value as measurement. Our data consists of several partitions, which contain key value pairs with the __name__ of the sensor as key and the __measurement__ as value. "
   ]
  },
  {
   "cell_type": "code",
   "execution_count": 14,
   "id": "800c618e",
   "metadata": {
    "pycharm": {
     "name": "#%%\n"
    }
   },
   "outputs": [],
   "source": [
    "partitioned_sensor_measurements = [\n",
    "    [\n",
    "        (\"Sensor1\", 12.3),\n",
    "        (\"Sensor2\", 9.3),\n",
    "        (\"Sensor3\", 2.7),\n",
    "        (\"BrokenSensor\", 1000.0),\n",
    "    ],\n",
    "    [\n",
    "        (\"Sensor1\", 17.1),\n",
    "        (\"Sensor2\", 7.3),\n",
    "        (\"Sensor3\", -12),\n",
    "    ],\n",
    "    [\n",
    "        (\"Sensor1\", 19.1),\n",
    "        (\"BrokenSensor\", 5000.0),\n",
    "        (\"Sensor2\", 3.3),\n",
    "        (\"Sensor3\", 0.0),\n",
    "    ],    \n",
    "]"
   ]
  },
  {
   "cell_type": "markdown",
   "id": "cddd330b",
   "metadata": {
    "pycharm": {
     "name": "#%% md\n"
    }
   },
   "source": [
    "### 1(a) - Compute the maximum measurement per sensor (except for the broken sensor)\n",
    "\n",
    "Time to write your first mapreduce program. Your task is to compute the maximum measurement value per sensor, for all sensors except the \"BrokenSensor\". Implement your code in the `max_measurement_per_sensor_f_map` and `max_measurement_per_sensor_f_reduce` functions (and change the return statement).\n",
    "\n",
    "Please note that the result of your mapreduce program should be equivalent to running the following SQL query on the data (if it was in a database):\n",
    "\n",
    "```\n",
    "SELECT sensor, MAX(measurement)\n",
    "FROM sensors\n",
    "WHERE name != \"BrokenSensor\"\n",
    "GROUP BY sensor\n",
    "```"
   ]
  },
  {
   "cell_type": "code",
   "execution_count": 22,
   "id": "6b09d8b6",
   "metadata": {
    "pycharm": {
     "name": "#%%\n"
    }
   },
   "outputs": [],
   "source": [
    "def a2_t1a_max_measurement_per_sensor():\n",
    "    def max_measurement_per_sensor_f_map(sensor, measurement):   \n",
    "        # IMPLEMENT ME\n",
    "        if sensor.startswith(\"Broken\"):\n",
    "            return []\n",
    "        return [(sensor, measurement)]\n",
    "\n",
    "    \n",
    "    def max_measurement_per_sensor_f_reduce(sensor, measurements):\n",
    "        # IMPLEMENT ME\n",
    "        max_measurement = max(measurements)\n",
    "        return [(sensor, max_measurement)]\n",
    "        \n",
    "    \n",
    "    return max_measurement_per_sensor_f_map, max_measurement_per_sensor_f_reduce"
   ]
  },
  {
   "cell_type": "markdown",
   "id": "2393048a",
   "metadata": {
    "pycharm": {
     "name": "#%% md\n"
    }
   },
   "source": [
    "Execute your program by running the following cell: "
   ]
  },
  {
   "cell_type": "code",
   "execution_count": 23,
   "id": "a701b360",
   "metadata": {
    "pycharm": {
     "name": "#%%\n"
    }
   },
   "outputs": [
    {
     "name": "stdout",
     "output_type": "stream",
     "text": [
      "---Starting MAP-phase.---\n",
      "  Applying f_map to input partition 0\n",
      "    f_map(Sensor1, 12.3) -> \n",
      "      (Sensor1, 12.3)\n",
      "    f_map(Sensor2, 9.3) -> \n",
      "      (Sensor2, 9.3)\n",
      "    f_map(Sensor3, 2.7) -> \n",
      "      (Sensor3, 2.7)\n",
      "    f_map(BrokenSensor, 1000.0) -> \n",
      "  Applying f_map to input partition 1\n",
      "    f_map(Sensor1, 17.1) -> \n",
      "      (Sensor1, 17.1)\n",
      "    f_map(Sensor2, 7.3) -> \n",
      "      (Sensor2, 7.3)\n",
      "    f_map(Sensor3, -12) -> \n",
      "      (Sensor3, -12)\n",
      "  Applying f_map to input partition 2\n",
      "    f_map(Sensor1, 19.1) -> \n",
      "      (Sensor1, 19.1)\n",
      "    f_map(BrokenSensor, 5000.0) -> \n",
      "    f_map(Sensor2, 3.3) -> \n",
      "      (Sensor2, 3.3)\n",
      "    f_map(Sensor3, 0.0) -> \n",
      "      (Sensor3, 0.0)\n",
      "\n",
      "---Starting SHUFFLE-phase.---\n",
      "  Shuffling map output input partition 0\n",
      "    Assigning key [Sensor1] to reducer input 1 via hash-partitioning\n",
      "    Assigning key [Sensor2] to reducer input 0 via hash-partitioning\n",
      "    Assigning key [Sensor3] to reducer input 0 via hash-partitioning\n",
      "  Shuffling map output input partition 1\n",
      "    Assigning key [Sensor1] to reducer input 1 via hash-partitioning\n",
      "    Assigning key [Sensor2] to reducer input 0 via hash-partitioning\n",
      "    Assigning key [Sensor3] to reducer input 0 via hash-partitioning\n",
      "  Shuffling map output input partition 2\n",
      "    Assigning key [Sensor1] to reducer input 1 via hash-partitioning\n",
      "    Assigning key [Sensor2] to reducer input 0 via hash-partitioning\n",
      "    Assigning key [Sensor3] to reducer input 0 via hash-partitioning\n",
      "\n",
      "---Starting REDUCE-phase.---\n",
      "  Applying f_reduce to reduce_input partition 0\n",
      "    f_reduce(Sensor2, [9.3, 7.3, 3.3]) -> \n",
      "      (Sensor2, 9.3)\n",
      "    f_reduce(Sensor3, [2.7, -12, 0.0]) -> \n",
      "      (Sensor3, 2.7)\n",
      "  Applying f_reduce to reduce_input partition 1\n",
      "    f_reduce(Sensor1, [12.3, 17.1, 19.1]) -> \n",
      "      (Sensor1, 19.1)\n"
     ]
    }
   ],
   "source": [
    "result = mapreduce(partitioned_sensor_measurements, *a2_t1a_max_measurement_per_sensor(), print_debug_text=True)"
   ]
  },
  {
   "cell_type": "markdown",
   "id": "2ede05a7",
   "metadata": {
    "pycharm": {
     "name": "#%% md\n"
    }
   },
   "source": [
    "Test your program by running the following cell, which checks whether your program produces the correct output for our example data."
   ]
  },
  {
   "cell_type": "code",
   "execution_count": 24,
   "id": "ab08ca71",
   "metadata": {
    "pycharm": {
     "name": "#%%\n"
    }
   },
   "outputs": [
    {
     "name": "stdout",
     "output_type": "stream",
     "text": [
      "\n",
      "RESULT VERIFICATION:\n",
      "  PASS: Key [Sensor1] has expected value!\n",
      "  PASS: Key [Sensor2] has expected value!\n",
      "  PASS: Key [Sensor3] has expected value!\n"
     ]
    }
   ],
   "source": [
    "verify_locally(result, 3, [(\"Sensor1\", 19.1), (\"Sensor2\", 9.3), (\"Sensor3\", 2.7)])"
   ]
  },
  {
   "cell_type": "code",
   "execution_count": 25,
   "id": "8a5d791a",
   "metadata": {
    "pycharm": {
     "name": "#%%\n"
    }
   },
   "outputs": [
    {
     "name": "stdout",
     "output_type": "stream",
     "text": [
      "Running local tests...\n",
      "a2_t1a_max_measurement_per_sensor successfully passed local tests\n",
      "Running remote test...\n",
      "Test was successful. Congratulations!\n"
     ]
    }
   ],
   "source": [
    "am.test_student_function(a2_t1a_max_measurement_per_sensor)"
   ]
  },
  {
   "cell_type": "markdown",
   "id": "c2228e16",
   "metadata": {
    "pycharm": {
     "name": "#%% md\n"
    }
   },
   "source": [
    "### 1(b) - Compute the globally maximal measurement\n",
    "\n",
    "In the next task, you have to compute the globally maximal measurement value from all sensors (including the \"BrokenSensor\"). Implement your code in the `global_max_measurement_f_map` and `global_max_measurement_f_reduce` functions (and change the return statement).\n",
    "\n",
    "Hint: use an artificial key \"global\" to produce the final output."
   ]
  },
  {
   "cell_type": "code",
   "execution_count": 26,
   "id": "5f3a0d81",
   "metadata": {
    "pycharm": {
     "name": "#%%\n"
    }
   },
   "outputs": [],
   "source": [
    "def a2_t1b_global_max_measurement():\n",
    "    def global_max_measurement_f_map(sensor, measurement):   \n",
    "        # IMPLEMENT ME\n",
    "        return [(\"global\", measurement)]\n",
    "    \n",
    "    def global_max_measurement_f_reduce(sensor, measurements):            \n",
    "        # IMPLEMENT ME\n",
    "        global_max = max(measurements)\n",
    "        return [(\"global\",global_max)]\n",
    "    \n",
    "    return global_max_measurement_f_map, global_max_measurement_f_reduce"
   ]
  },
  {
   "cell_type": "markdown",
   "id": "7dc44517",
   "metadata": {
    "pycharm": {
     "name": "#%% md\n"
    }
   },
   "source": [
    "Execute your program by running the following cell: "
   ]
  },
  {
   "cell_type": "code",
   "execution_count": 27,
   "id": "a384fdff",
   "metadata": {
    "pycharm": {
     "name": "#%%\n"
    }
   },
   "outputs": [
    {
     "name": "stdout",
     "output_type": "stream",
     "text": [
      "---Starting MAP-phase.---\n",
      "  Applying f_map to input partition 0\n",
      "    f_map(Sensor1, 12.3) -> \n",
      "      (global, 12.3)\n",
      "    f_map(Sensor2, 9.3) -> \n",
      "      (global, 9.3)\n",
      "    f_map(Sensor3, 2.7) -> \n",
      "      (global, 2.7)\n",
      "    f_map(BrokenSensor, 1000.0) -> \n",
      "      (global, 1000.0)\n",
      "  Applying f_map to input partition 1\n",
      "    f_map(Sensor1, 17.1) -> \n",
      "      (global, 17.1)\n",
      "    f_map(Sensor2, 7.3) -> \n",
      "      (global, 7.3)\n",
      "    f_map(Sensor3, -12) -> \n",
      "      (global, -12)\n",
      "  Applying f_map to input partition 2\n",
      "    f_map(Sensor1, 19.1) -> \n",
      "      (global, 19.1)\n",
      "    f_map(BrokenSensor, 5000.0) -> \n",
      "      (global, 5000.0)\n",
      "    f_map(Sensor2, 3.3) -> \n",
      "      (global, 3.3)\n",
      "    f_map(Sensor3, 0.0) -> \n",
      "      (global, 0.0)\n",
      "\n",
      "---Starting SHUFFLE-phase.---\n",
      "  Shuffling map output input partition 0\n",
      "    Assigning key [global] to reducer input 1 via hash-partitioning\n",
      "    Assigning key [global] to reducer input 1 via hash-partitioning\n",
      "    Assigning key [global] to reducer input 1 via hash-partitioning\n",
      "    Assigning key [global] to reducer input 1 via hash-partitioning\n",
      "  Shuffling map output input partition 1\n",
      "    Assigning key [global] to reducer input 1 via hash-partitioning\n",
      "    Assigning key [global] to reducer input 1 via hash-partitioning\n",
      "    Assigning key [global] to reducer input 1 via hash-partitioning\n",
      "  Shuffling map output input partition 2\n",
      "    Assigning key [global] to reducer input 1 via hash-partitioning\n",
      "    Assigning key [global] to reducer input 1 via hash-partitioning\n",
      "    Assigning key [global] to reducer input 1 via hash-partitioning\n",
      "    Assigning key [global] to reducer input 1 via hash-partitioning\n",
      "\n",
      "---Starting REDUCE-phase.---\n",
      "  Applying f_reduce to reduce_input partition 0\n",
      "  Applying f_reduce to reduce_input partition 1\n",
      "    f_reduce(global, [12.3, 9.3, 2.7, 1000.0, 17.1, 7.3, -12, 19.1, 5000.0, 3.3, 0.0]) -> \n",
      "      (global, 5000.0)\n"
     ]
    }
   ],
   "source": [
    "result = mapreduce(partitioned_sensor_measurements, *a2_t1b_global_max_measurement(), print_debug_text=True) "
   ]
  },
  {
   "cell_type": "markdown",
   "id": "04769256",
   "metadata": {
    "pycharm": {
     "name": "#%% md\n"
    }
   },
   "source": [
    "Test your program by running the following cell, which checks whether your program produces the correct output for our example data."
   ]
  },
  {
   "cell_type": "code",
   "execution_count": 28,
   "id": "e766cf7b",
   "metadata": {
    "pycharm": {
     "name": "#%%\n"
    }
   },
   "outputs": [
    {
     "name": "stdout",
     "output_type": "stream",
     "text": [
      "\n",
      "RESULT VERIFICATION:\n",
      "  PASS: Key [global] has expected value!\n"
     ]
    }
   ],
   "source": [
    "verify_locally(result, 1, [(\"global\", 5000)])"
   ]
  },
  {
   "cell_type": "code",
   "execution_count": 29,
   "id": "987211b7",
   "metadata": {
    "pycharm": {
     "name": "#%%\n"
    }
   },
   "outputs": [
    {
     "name": "stdout",
     "output_type": "stream",
     "text": [
      "Running local tests...\n",
      "a2_t1b_global_max_measurement successfully passed local tests\n",
      "Running remote test...\n",
      "Test was successful. Congratulations!\n"
     ]
    }
   ],
   "source": [
    "am.test_student_function(a2_t1b_global_max_measurement)"
   ]
  },
  {
   "cell_type": "markdown",
   "id": "e231b9b3",
   "metadata": {
    "pycharm": {
     "name": "#%% md\n"
    }
   },
   "source": [
    "## Task 2 - Text Processing\n",
    "\n",
    "In the next task, we implement some simple text processing program with mapreduce. Our input data is partitioned data about books, where each key value pair contains a __book_id__ as key and a __sentence__ as value."
   ]
  },
  {
   "cell_type": "code",
   "execution_count": 33,
   "id": "738dfa39",
   "metadata": {
    "pycharm": {
     "name": "#%%\n"
    }
   },
   "outputs": [],
   "source": [
    "partitioned_books = [\n",
    "    [\n",
    "        (1, \"It was a bright cold day in April, and the clocks were striking thirteen.\"),\n",
    "        (2, \"Mr. Jones, of the Manor Farm, had locked the hen-houses for the night, but was too drunk to remember to shut the pop-holes. \"),\n",
    "        (3, \"He was a tough-looking youth of twenty-five or six, with reddish-yellow hair and powerful shoulders.\")\n",
    "    ],\n",
    "    [\n",
    "        (1, \"On each landing, opposite the lift-shaft, the poster with the enormous face gazed from the wall.\"),\n",
    "        (2, \"All the animals were now present except Moses, the tame raven, who slept on a perch behind the back door.\"),        \n",
    "        (3, \"This was in late December 1936, less than seven months ago as I write, and yet it is a period that has already receded into enormous distance.\")\n",
    "    ]\n",
    "]"
   ]
  },
  {
   "cell_type": "markdown",
   "id": "faae67a9",
   "metadata": {
    "pycharm": {
     "name": "#%% md\n"
    }
   },
   "source": [
    "### Compute the number of commas per book.\n",
    "\n",
    "Please write a program to count the number of commas occurring in the text of each book. Implement your code in the `commacount_f_map` and `commacount_f_reduce` functions (and change the return statement).\n",
    "\n",
    "Please note that the result of your mapreduce program should be equivalent to running the following SQL query on the data (if it was in a database and there was a CHAR_COUNT function):\n",
    "\n",
    "```\n",
    "SELECT book_id, SUM(CHAR_COUNT(sentence, ','))\n",
    "FROM book_sentences\n",
    "GROUP BY book_id\n",
    "```\n"
   ]
  },
  {
   "cell_type": "code",
   "execution_count": 36,
   "id": "1acd0708",
   "metadata": {
    "pycharm": {
     "name": "#%%\n"
    }
   },
   "outputs": [],
   "source": [
    "def a2_t2_commacount():\n",
    "    def commacount_f_map(book_id, sentence):   \n",
    "        # IMPLEMENT ME\n",
    "        commacount = 0\n",
    "        for char in sentence:\n",
    "            if char == \",\":\n",
    "                commacount += 1\n",
    "        return [(book_id, commacount)]          \n",
    "\n",
    "\n",
    "    def commacount_f_reduce(book_id, counts):\n",
    "        # IMPLEMENT ME\n",
    "        total_commacounts = sum(counts)\n",
    "        return [(book_id,total_commacounts)]\n",
    "\n",
    "    return commacount_f_map, commacount_f_reduce"
   ]
  },
  {
   "cell_type": "markdown",
   "id": "34bd3a27",
   "metadata": {
    "pycharm": {
     "name": "#%% md\n"
    }
   },
   "source": [
    "Execute your program by running the following cell:"
   ]
  },
  {
   "cell_type": "code",
   "execution_count": 37,
   "id": "77348911",
   "metadata": {
    "pycharm": {
     "name": "#%%\n"
    }
   },
   "outputs": [
    {
     "name": "stdout",
     "output_type": "stream",
     "text": [
      "---Starting MAP-phase.---\n",
      "  Applying f_map to input partition 0\n",
      "    f_map(1, It was a bright cold day in April, and the clocks were striking thirteen.) -> \n",
      "      (1, 1)\n",
      "    f_map(2, Mr. Jones, of the Manor Farm, had locked the hen-houses for the night, but was too drunk to remember to shut the pop-holes. ) -> \n",
      "      (2, 3)\n",
      "    f_map(3, He was a tough-looking youth of twenty-five or six, with reddish-yellow hair and powerful shoulders.) -> \n",
      "      (3, 1)\n",
      "  Applying f_map to input partition 1\n",
      "    f_map(1, On each landing, opposite the lift-shaft, the poster with the enormous face gazed from the wall.) -> \n",
      "      (1, 2)\n",
      "    f_map(2, All the animals were now present except Moses, the tame raven, who slept on a perch behind the back door.) -> \n",
      "      (2, 2)\n",
      "    f_map(3, This was in late December 1936, less than seven months ago as I write, and yet it is a period that has already receded into enormous distance.) -> \n",
      "      (3, 2)\n",
      "\n",
      "---Starting SHUFFLE-phase.---\n",
      "  Shuffling map output input partition 0\n",
      "    Assigning key [1] to reducer input 1 via hash-partitioning\n",
      "    Assigning key [2] to reducer input 0 via hash-partitioning\n",
      "    Assigning key [3] to reducer input 1 via hash-partitioning\n",
      "  Shuffling map output input partition 1\n",
      "    Assigning key [1] to reducer input 1 via hash-partitioning\n",
      "    Assigning key [2] to reducer input 0 via hash-partitioning\n",
      "    Assigning key [3] to reducer input 1 via hash-partitioning\n",
      "\n",
      "---Starting REDUCE-phase.---\n",
      "  Applying f_reduce to reduce_input partition 0\n",
      "    f_reduce(2, [3, 2]) -> \n",
      "      (2, 5)\n",
      "  Applying f_reduce to reduce_input partition 1\n",
      "    f_reduce(1, [1, 2]) -> \n",
      "      (1, 3)\n",
      "    f_reduce(3, [1, 2]) -> \n",
      "      (3, 3)\n"
     ]
    }
   ],
   "source": [
    "result = mapreduce(partitioned_books, *a2_t2_commacount(), print_debug_text=True)"
   ]
  },
  {
   "cell_type": "markdown",
   "id": "20c803aa",
   "metadata": {
    "pycharm": {
     "name": "#%% md\n"
    }
   },
   "source": [
    "Test your program by running the following cell, which checks whether your program produces the correct output for our example data."
   ]
  },
  {
   "cell_type": "code",
   "execution_count": 38,
   "id": "d3bbb671",
   "metadata": {
    "pycharm": {
     "name": "#%%\n"
    }
   },
   "outputs": [
    {
     "name": "stdout",
     "output_type": "stream",
     "text": [
      "\n",
      "RESULT VERIFICATION:\n",
      "  PASS: Key [2] has expected value!\n",
      "  PASS: Key [1] has expected value!\n",
      "  PASS: Key [3] has expected value!\n"
     ]
    }
   ],
   "source": [
    "verify_locally(result, 3, [(2, 5), (1, 3), (3, 3)])"
   ]
  },
  {
   "cell_type": "code",
   "execution_count": 39,
   "id": "f1a55bd5",
   "metadata": {
    "pycharm": {
     "name": "#%%\n"
    }
   },
   "outputs": [
    {
     "name": "stdout",
     "output_type": "stream",
     "text": [
      "Running local tests...\n",
      "a2_t2_commacount successfully passed local tests\n",
      "Running remote test...\n",
      "Test was successful. Congratulations!\n"
     ]
    }
   ],
   "source": [
    "am.test_student_function(a2_t2_commacount)"
   ]
  },
  {
   "cell_type": "markdown",
   "id": "a65083fe",
   "metadata": {
    "pycharm": {
     "name": "#%% md\n"
    }
   },
   "source": [
    "### Task 3 - Movie visitor numbers\n",
    "\n",
    "In the final mapreduce task of this assignment, we work with key value pairs about the visitor numbers of a movie for several weeks. Note that the data is a bit more messy than before. The key denotes the __name__ of the movie, but the value is a nested array of tuples, denoting the number of the __week__ and the __number of visitors__ in that week for a given movie."
   ]
  },
  {
   "cell_type": "code",
   "execution_count": 42,
   "id": "0bc41aeb",
   "metadata": {
    "pycharm": {
     "name": "#%%\n"
    }
   },
   "outputs": [],
   "source": [
    "partitioned_movie_stats = [\n",
    "    [\n",
    "        (\"MovieA\", [(1, 100), (2, 20), (3, \"50\")]),\n",
    "        (\"MovieC\", [(1, 100), (2, \"250\"), (3, 100), (4, \"120\")]),        \n",
    "        (\"MovieB\", [(1, 1000), (2, 250)]),\n",
    "\n",
    "    ],\n",
    "    [\n",
    "        (\"MovieA\", [(4, 50), (5, \"10\"), (6, 0)]),\n",
    "        (\"MovieB\", [(3, 0), (4, \"260\")]),  \n",
    "        (\"MovieC\", [(5, \"180\")]),\n",
    "    ]\n",
    "]"
   ]
  },
  {
   "cell_type": "markdown",
   "id": "e2f9b609",
   "metadata": {
    "pycharm": {
     "name": "#%% md\n"
    }
   },
   "source": [
    "### Maximum number of visitors in a week per movie\n",
    "\n",
    "Please write a mapreduce program to compute the maximum number of visitors in a week per movie (but ignore the first week of each movie). Implement your code in the `max_weekly_visitors_f_map` and `max_weekly_visitors_f_reduce` functions (and change the return statement)."
   ]
  },
  {
   "cell_type": "code",
   "execution_count": 54,
   "id": "d14d24bc",
   "metadata": {
    "pycharm": {
     "name": "#%%\n"
    }
   },
   "outputs": [],
   "source": [
    "def a2_t3_max_weekly_visitors():\n",
    "    def max_weekly_visitors_f_map(movie, weekly_stats):   \n",
    "        # IMPLEMENT ME\n",
    "        max_count = 0\n",
    "        for week, count in weekly_stats:\n",
    "            if week != 1:\n",
    "                count = int(count)\n",
    "                if count > max_count:\n",
    "                    max_count = count\n",
    "        return [(movie,max_count)]\n",
    "\n",
    "    def max_weekly_visitors_f_reduce(movie, numbers):\n",
    "        # IMPLEMENT ME\n",
    "        max_weekly_visitors = max(numbers)\n",
    "        return [(movie,max_weekly_visitors)]\n",
    "    \n",
    "    return max_weekly_visitors_f_map, max_weekly_visitors_f_reduce"
   ]
  },
  {
   "cell_type": "markdown",
   "id": "bbe40325",
   "metadata": {
    "pycharm": {
     "name": "#%% md\n"
    }
   },
   "source": [
    "Execute your program by running the following cell:"
   ]
  },
  {
   "cell_type": "code",
   "execution_count": 55,
   "id": "32fec880",
   "metadata": {
    "pycharm": {
     "name": "#%%\n"
    }
   },
   "outputs": [
    {
     "name": "stdout",
     "output_type": "stream",
     "text": [
      "---Starting MAP-phase.---\n",
      "  Applying f_map to input partition 0\n",
      "    f_map(MovieA, [(1, 100), (2, 20), (3, '50')]) -> \n",
      "      (MovieA, 50)\n",
      "    f_map(MovieC, [(1, 100), (2, '250'), (3, 100), (4, '120')]) -> \n",
      "      (MovieC, 250)\n",
      "    f_map(MovieB, [(1, 100), (2, 250)]) -> \n",
      "      (MovieB, 250)\n",
      "  Applying f_map to input partition 1\n",
      "    f_map(MovieA, [(4, 50), (5, '10'), (6, 0)]) -> \n",
      "      (MovieA, 50)\n",
      "    f_map(MovieB, [(3, 0), (4, '260')]) -> \n",
      "      (MovieB, 260)\n",
      "    f_map(MovieC, [(5, '180')]) -> \n",
      "      (MovieC, 180)\n",
      "\n",
      "---Starting SHUFFLE-phase.---\n",
      "  Shuffling map output input partition 0\n",
      "    Assigning key [MovieA] to reducer input 1 via hash-partitioning\n",
      "    Assigning key [MovieC] to reducer input 0 via hash-partitioning\n",
      "    Assigning key [MovieB] to reducer input 1 via hash-partitioning\n",
      "  Shuffling map output input partition 1\n",
      "    Assigning key [MovieA] to reducer input 1 via hash-partitioning\n",
      "    Assigning key [MovieB] to reducer input 1 via hash-partitioning\n",
      "    Assigning key [MovieC] to reducer input 0 via hash-partitioning\n",
      "\n",
      "---Starting REDUCE-phase.---\n",
      "  Applying f_reduce to reduce_input partition 0\n",
      "    f_reduce(MovieC, [250, 180]) -> \n",
      "      (MovieC, 250)\n",
      "  Applying f_reduce to reduce_input partition 1\n",
      "    f_reduce(MovieA, [50, 50]) -> \n",
      "      (MovieA, 50)\n",
      "    f_reduce(MovieB, [250, 260]) -> \n",
      "      (MovieB, 260)\n"
     ]
    }
   ],
   "source": [
    "result = mapreduce(partitioned_movie_stats, *a2_t3_max_weekly_visitors(), print_debug_text=True)"
   ]
  },
  {
   "cell_type": "markdown",
   "id": "670a300b",
   "metadata": {
    "pycharm": {
     "name": "#%% md\n"
    }
   },
   "source": [
    "Test your program by running the following cell, which checks whether your program produces the correct output for our example data."
   ]
  },
  {
   "cell_type": "code",
   "execution_count": 56,
   "id": "112520ff",
   "metadata": {
    "pycharm": {
     "name": "#%%\n"
    }
   },
   "outputs": [
    {
     "name": "stdout",
     "output_type": "stream",
     "text": [
      "\n",
      "RESULT VERIFICATION:\n",
      "  PASS: Key [MovieA] has expected value!\n",
      "  PASS: Key [MovieB] has expected value!\n",
      "  PASS: Key [MovieC] has expected value!\n"
     ]
    }
   ],
   "source": [
    "verify_locally(result, 3, [('MovieA', 50), ('MovieB', 260), ('MovieC', 250)])"
   ]
  },
  {
   "cell_type": "code",
   "execution_count": 57,
   "id": "013bed09",
   "metadata": {
    "pycharm": {
     "name": "#%%\n"
    }
   },
   "outputs": [
    {
     "name": "stdout",
     "output_type": "stream",
     "text": [
      "Running local tests...\n",
      "a2_t3_max_weekly_visitors successfully passed local tests\n",
      "Running remote test...\n",
      "Test was successful. Congratulations!\n"
     ]
    }
   ],
   "source": [
    "am.test_student_function(a2_t3_max_weekly_visitors)"
   ]
  },
  {
   "cell_type": "markdown",
   "id": "d7f239dc",
   "metadata": {
    "pycharm": {
     "name": "#%% md\n"
    }
   },
   "source": [
    "# Part B - Spark\n",
    "\n",
    "In the second part of the assignment, we revisit our problems but solve them with a real dataflow system now: [Apache Spark](https://spark.apache.org/docs/latest/api/python/index.html). Please note that we use its Python variant in local mode for simplicity and easy debugging. But your programs would also run on a real cluster!\n"
   ]
  },
  {
   "cell_type": "markdown",
   "id": "9c8e5957",
   "metadata": {
    "pycharm": {
     "name": "#%% md\n"
    }
   },
   "source": [
    "But first, we define other helper function to test our program outputs locally"
   ]
  },
  {
   "cell_type": "code",
   "execution_count": 58,
   "id": "9f012078",
   "metadata": {
    "pycharm": {
     "name": "#%%\n"
    }
   },
   "outputs": [],
   "source": [
    "def verify_locally_from_rdd(result, expected_num_keys, expected_keys_and_values):\n",
    "    verify_locally([result.collect()], expected_num_keys, expected_keys_and_values)"
   ]
  },
  {
   "cell_type": "markdown",
   "id": "544a7343",
   "metadata": {
    "pycharm": {
     "name": "#%% md\n"
    }
   },
   "source": [
    "Spark has the concept of a session that allows us to move data into the cluster. We use it in local mode though.\n",
    "\n",
    "Note that you can ignore the following warnings that might occur when executing the next cell:\n",
    "\n",
    "```\n",
    "WARNING: An illegal reflective access operation has occurred\n",
    "WARNING: Illegal reflective access by org.apache.spark.unsafe.Platform (file:/usr/local/spark-3.2.0-bin-hadoop3.2/jars/spark-unsafe_2.12-3.2.0.jar) to constructor java.nio.DirectByteBuffer(long,int)\n",
    "WARNING: Please consider reporting this to the maintainers of org.apache.spark.unsafe.Platform\n",
    "WARNING: Use --illegal-access=warn to enable warnings of further illegal reflective access operations\n",
    "WARNING: All illegal access operations will be denied in a future release\n",
    "```\n",
    "\n",
    "and\n",
    "\n",
    "```\n",
    " WARN NativeCodeLoader: Unable to load native-hadoop library for your platform... using builtin-java classes where applicable\n",
    "```\n"
   ]
  },
  {
   "cell_type": "code",
   "execution_count": 59,
   "id": "82a199ec",
   "metadata": {
    "pycharm": {
     "name": "#%%\n"
    }
   },
   "outputs": [
    {
     "name": "stderr",
     "output_type": "stream",
     "text": [
      "WARNING: An illegal reflective access operation has occurred\n",
      "WARNING: Illegal reflective access by org.apache.spark.unsafe.Platform (file:/usr/local/spark-3.2.0-bin-hadoop3.2/jars/spark-unsafe_2.12-3.2.0.jar) to constructor java.nio.DirectByteBuffer(long,int)\n",
      "WARNING: Please consider reporting this to the maintainers of org.apache.spark.unsafe.Platform\n",
      "WARNING: Use --illegal-access=warn to enable warnings of further illegal reflective access operations\n",
      "WARNING: All illegal access operations will be denied in a future release\n",
      "Using Spark's default log4j profile: org/apache/spark/log4j-defaults.properties\n",
      "Setting default log level to \"WARN\".\n",
      "To adjust logging level use sc.setLogLevel(newLevel). For SparkR, use setLogLevel(newLevel).\n",
      "23/02/18 14:17:45 WARN NativeCodeLoader: Unable to load native-hadoop library for your platform... using builtin-java classes where applicable\n"
     ]
    }
   ],
   "source": [
    "from pyspark.sql import SparkSession\n",
    "from pyspark.sql import Row\n",
    "\n",
    "spark = SparkSession.builder \\\n",
    "    .master(\"local\") \\\n",
    "    .config(\"spark.driver.bindAddress\",\"127.0.0.1\") \\\n",
    "    .getOrCreate()"
   ]
  },
  {
   "cell_type": "markdown",
   "id": "b36e9f7c",
   "metadata": {
    "pycharm": {
     "name": "#%% md\n"
    }
   },
   "source": [
    "Spark works on so-called RDDS (resilient distributed datasets). We revisit our \"hello world\" example and create an RDD of documents."
   ]
  },
  {
   "cell_type": "code",
   "execution_count": 61,
   "id": "951c8b7f",
   "metadata": {
    "pycharm": {
     "name": "#%%\n"
    }
   },
   "outputs": [],
   "source": [
    "documents = spark.sparkContext.parallelize([\n",
    "    (1, \"the shawshank redemption\"),\n",
    "    (2, \"the godfather\"),\n",
    "    (3, \"the godfather part two\")\n",
    "], 2)"
   ]
  },
  {
   "cell_type": "markdown",
   "id": "17ae7df7",
   "metadata": {
    "pycharm": {
     "name": "#%% md\n"
    }
   },
   "source": [
    "We write programs in Spark by RDDs into new RDDs. Similar to MapReduce we can write our own functions to apply to the data during these transformations. \n",
    "\n",
    "Be sure to consult the [overview over the PySpark RDD API](https://spark.apache.org/docs/latest/api/python/reference/pyspark.html#rdd-apis) for the following tasks.\n",
    "\n",
    "\n",
    "The following code shows our \"Hello World\" example in Spark. We apply a `flatMap` to transform an document into multiple word tuples (analogously to our f_map function in mapreduce) and use Spark's `reduceByKey` transformation to group and reduce the resulting output. Note that we only have to define how to aggregate (e.g., sum) the values here."
   ]
  },
  {
   "cell_type": "code",
   "execution_count": 62,
   "id": "6aa350a8",
   "metadata": {
    "pycharm": {
     "name": "#%%\n"
    }
   },
   "outputs": [],
   "source": [
    "def extract_words(docid_and_title):\n",
    "    text = docid_and_title[1]\n",
    "    output_tuples = []\n",
    "    for word in text.split(\" \"):\n",
    "        output_tuples.append((word, 1))\n",
    "    # return list of tuples [(token1,1),(token2,1),...]\n",
    "    return output_tuples        \n",
    "\n",
    "wordcounts = documents\\\n",
    "    .flatMap(lambda docid_and_title: extract_words(docid_and_title))\\\n",
    "    .reduceByKey(lambda count1, count2: count1 + count2)"
   ]
  },
  {
   "cell_type": "markdown",
   "id": "9411509d",
   "metadata": {
    "pycharm": {
     "name": "#%% md\n"
    }
   },
   "source": [
    "We can use the adapted test function to verify that the outputs of our program are correct."
   ]
  },
  {
   "cell_type": "code",
   "execution_count": 63,
   "id": "d02cdc38",
   "metadata": {
    "pycharm": {
     "name": "#%%\n"
    }
   },
   "outputs": [
    {
     "name": "stderr",
     "output_type": "stream",
     "text": [
      "[Stage 1:>                                                          (0 + 1) / 2]\r"
     ]
    },
    {
     "name": "stdout",
     "output_type": "stream",
     "text": [
      "\n",
      "RESULT VERIFICATION:\n",
      "  PASS: Key [the] has expected value!\n",
      "  PASS: Key [godfather] has expected value!\n",
      "  PASS: Key [two] has expected value!\n"
     ]
    },
    {
     "name": "stderr",
     "output_type": "stream",
     "text": [
      "                                                                                \r"
     ]
    }
   ],
   "source": [
    "verify_locally_from_rdd(wordcounts, 6, [(\"the\", 3), (\"godfather\", 2), (\"two\", 1)])"
   ]
  },
  {
   "cell_type": "markdown",
   "id": "2e476278",
   "metadata": {
    "pycharm": {
     "name": "#%% md\n"
    }
   },
   "source": [
    "Spark RDD's have a built-in action `collect` which transforms them into a Python collection. In real-world usecases, this would load the data from the cluster into the memory of our program (and potentially cause a crash), but we can use it here for debugging and inspecting the outputs of our transformations.\n",
    "\n",
    "Here is how the data looks after the flatMap."
   ]
  },
  {
   "cell_type": "code",
   "execution_count": 67,
   "id": "c7c2a94e",
   "metadata": {
    "pycharm": {
     "name": "#%%\n"
    }
   },
   "outputs": [
    {
     "name": "stderr",
     "output_type": "stream",
     "text": [
      "                                                                                \r"
     ]
    },
    {
     "data": {
      "text/plain": [
       "[('the', 1),\n",
       " ('shawshank', 1),\n",
       " ('redemption', 1),\n",
       " ('the', 1),\n",
       " ('godfather', 1),\n",
       " ('the', 1),\n",
       " ('godfather', 1),\n",
       " ('part', 1),\n",
       " ('two', 1)]"
      ]
     },
     "execution_count": 67,
     "metadata": {},
     "output_type": "execute_result"
    }
   ],
   "source": [
    "documents\\\n",
    "    .flatMap(lambda docid_and_title: extract_words(docid_and_title))\\\n",
    "    .collect()"
   ]
  },
  {
   "cell_type": "markdown",
   "id": "7572c1f8",
   "metadata": {
    "pycharm": {
     "name": "#%% md\n"
    }
   },
   "source": [
    "And this cell shows how the data looks like after the reduce:"
   ]
  },
  {
   "cell_type": "code",
   "execution_count": 65,
   "id": "ce181f9b",
   "metadata": {
    "pycharm": {
     "name": "#%%\n"
    }
   },
   "outputs": [
    {
     "name": "stderr",
     "output_type": "stream",
     "text": [
      "                                                                                \r"
     ]
    },
    {
     "data": {
      "text/plain": [
       "[('godfather', 2),\n",
       " ('two', 1),\n",
       " ('the', 3),\n",
       " ('shawshank', 1),\n",
       " ('redemption', 1),\n",
       " ('part', 1)]"
      ]
     },
     "execution_count": 65,
     "metadata": {},
     "output_type": "execute_result"
    }
   ],
   "source": [
    "documents\\\n",
    "    .flatMap(lambda docid_and_title: extract_words(docid_and_title))\\\n",
    "    .reduceByKey(lambda count1, count2: count1 + count2)\\\n",
    "    .collect()"
   ]
  },
  {
   "cell_type": "markdown",
   "id": "5d756db8",
   "metadata": {
    "pycharm": {
     "name": "#%% md\n"
    }
   },
   "source": [
    "Note that we can often write Spark programs without having to explicitly define new functions, we can also use lambda functions and list comprehensions, like this:"
   ]
  },
  {
   "cell_type": "code",
   "execution_count": 68,
   "id": "f43640d0",
   "metadata": {
    "pycharm": {
     "name": "#%%\n"
    }
   },
   "outputs": [],
   "source": [
    "wordcounts = documents\\\n",
    "    .flatMap(lambda docid_and_title: [(word, 1) for word in docid_and_title[1].split(\" \")])\\\n",
    "    .reduceByKey(lambda count1, count2: count1 + count2)"
   ]
  },
  {
   "cell_type": "code",
   "execution_count": 69,
   "id": "c2718933",
   "metadata": {
    "pycharm": {
     "name": "#%%\n"
    }
   },
   "outputs": [
    {
     "name": "stderr",
     "output_type": "stream",
     "text": [
      "[Stage 8:>                                                          (0 + 2) / 2]\r"
     ]
    },
    {
     "name": "stdout",
     "output_type": "stream",
     "text": [
      "\n",
      "RESULT VERIFICATION:\n",
      "  PASS: Key [the] has expected value!\n",
      "  PASS: Key [godfather] has expected value!\n",
      "  PASS: Key [two] has expected value!\n"
     ]
    },
    {
     "name": "stderr",
     "output_type": "stream",
     "text": [
      "                                                                                \r"
     ]
    }
   ],
   "source": [
    "verify_locally_from_rdd(wordcounts, 6, [(\"the\", 3), (\"godfather\", 2), (\"two\", 1)])"
   ]
  },
  {
   "cell_type": "markdown",
   "id": "9131b7cb",
   "metadata": {
    "pycharm": {
     "name": "#%% md\n"
    }
   },
   "source": [
    "### Task 4 - Sensors again\n",
    "\n",
    "Next, we revisit our sensors task. First we load the measurement data into an RDD.\n"
   ]
  },
  {
   "cell_type": "code",
   "execution_count": 70,
   "id": "079f2d77",
   "metadata": {
    "pycharm": {
     "name": "#%%\n"
    }
   },
   "outputs": [],
   "source": [
    "sensor_measurements = spark.sparkContext.parallelize([\n",
    "        (\"Sensor1\", 12.3),\n",
    "        (\"Sensor2\", 9.3),\n",
    "        (\"Sensor3\", 2.7),\n",
    "        (\"BrokenSensor\", 1000.0),\n",
    "        (\"Sensor1\", 17.1),\n",
    "        (\"Sensor2\", 7.3),\n",
    "        (\"Sensor3\", -12),\n",
    "        (\"Sensor1\", 19.1),\n",
    "        (\"BrokenSensor\", 5000.0),\n",
    "        (\"Sensor2\", 3.3),\n",
    "        (\"Sensor3\", 0.0)\n",
    "], 2)"
   ]
  },
  {
   "cell_type": "markdown",
   "id": "be409884",
   "metadata": {
    "pycharm": {
     "name": "#%% md\n"
    }
   },
   "source": [
    "### Task 4(a) - Maximum value per sensor\n",
    "\n",
    "Your task is to compute an RDD containing the maximum measurement value per sensor, for all sensors except the \"BrokenSensor\". Write the corresponding code in the `compute_max_value_per_sensor` function (and change the return statement).\n",
    "\n",
    "Note that you can use the next cell for locally trying out some Spark code, before you fill in your solution into the `compute_max_value_per_sensor` function.\n"
   ]
  },
  {
   "cell_type": "code",
   "execution_count": 76,
   "id": "96d9679d",
   "metadata": {
    "pycharm": {
     "name": "#%%\n"
    }
   },
   "outputs": [
    {
     "name": "stderr",
     "output_type": "stream",
     "text": [
      "                                                                                \r"
     ]
    },
    {
     "data": {
      "text/plain": [
       "[('Sensor1', 19.1), ('Sensor2', 9.3), ('Sensor3', 2.7)]"
      ]
     },
     "execution_count": 76,
     "metadata": {},
     "output_type": "execute_result"
    }
   ],
   "source": [
    "# This is just for local development, you can test different transformations here\n",
    "sensor_measurements\\\n",
    "    .filter(lambda sensor_measurement: sensor_measurement[0] != \"BrokenSensor\") \\\n",
    "    .reduceByKey(lambda a,b: max(a,b)) \\\n",
    "    .collect()\n"
   ]
  },
  {
   "cell_type": "code",
   "execution_count": 79,
   "id": "1ad75423",
   "metadata": {
    "pycharm": {
     "name": "#%%\n"
    }
   },
   "outputs": [],
   "source": [
    "def a2_t4a_compute_max_value_per_sensor(sensor_measurements):\n",
    "    # IMPLEMENT ME\n",
    "    return sensor_measurements\\\n",
    "    .filter(lambda sensor_measurement: sensor_measurement[0] != \"BrokenSensor\") \\\n",
    "    .reduceByKey(lambda a,b: max(a,b))"
   ]
  },
  {
   "cell_type": "markdown",
   "id": "b422ca50",
   "metadata": {
    "pycharm": {
     "name": "#%% md\n"
    }
   },
   "source": [
    "Execute the following cell to test your Spark program locally:"
   ]
  },
  {
   "cell_type": "code",
   "execution_count": 80,
   "id": "d7f5b0c4",
   "metadata": {
    "pycharm": {
     "name": "#%%\n"
    }
   },
   "outputs": [
    {
     "name": "stderr",
     "output_type": "stream",
     "text": [
      "                                                                                \r"
     ]
    },
    {
     "name": "stdout",
     "output_type": "stream",
     "text": [
      "\n",
      "RESULT VERIFICATION:\n",
      "  PASS: Key [Sensor1] has expected value!\n",
      "  PASS: Key [Sensor2] has expected value!\n",
      "  PASS: Key [Sensor3] has expected value!\n"
     ]
    }
   ],
   "source": [
    "result = a2_t4a_compute_max_value_per_sensor(sensor_measurements)\n",
    "\n",
    "verify_locally_from_rdd(result, 3, [(\"Sensor1\", 19.1), (\"Sensor2\", 9.3), (\"Sensor3\", 2.7)])"
   ]
  },
  {
   "cell_type": "code",
   "execution_count": 81,
   "id": "18c1dc4b",
   "metadata": {
    "pycharm": {
     "name": "#%%\n"
    }
   },
   "outputs": [
    {
     "name": "stdout",
     "output_type": "stream",
     "text": [
      "Running local tests...\n"
     ]
    },
    {
     "name": "stderr",
     "output_type": "stream",
     "text": [
      "[Stage 26:=============================>                            (3 + 1) / 6]\r"
     ]
    },
    {
     "name": "stdout",
     "output_type": "stream",
     "text": [
      "a2_t4a_compute_max_value_per_sensor successfully passed local tests\n",
      "Running remote test...\n"
     ]
    },
    {
     "name": "stderr",
     "output_type": "stream",
     "text": [
      "[Stage 28:==========================================================(9 + 0) / 9]\r"
     ]
    },
    {
     "name": "stdout",
     "output_type": "stream",
     "text": [
      "Test was successful. Congratulations!\n"
     ]
    },
    {
     "name": "stderr",
     "output_type": "stream",
     "text": [
      "                                                                                \r"
     ]
    }
   ],
   "source": [
    "am.test_student_function(a2_t4a_compute_max_value_per_sensor)"
   ]
  },
  {
   "cell_type": "markdown",
   "id": "c8c6bb06",
   "metadata": {
    "pycharm": {
     "name": "#%% md\n"
    }
   },
   "source": [
    "### Task 4(b) - Globally maximal sensor value\n",
    "\n",
    "In the next task, you have to compute an RDD with the globally maximal measurement value from all sensors (including the \"BrokenSensor\"). Implement your code in the `compute_global_max_value` function (and change the return statement). Hint: use an artificial key \"global\" to produce the final output.\n",
    "\n",
    "Note that you can use the next cell for locally trying out some Spark code, before you fill in your solution into the `compute_global_max_value` function."
   ]
  },
  {
   "cell_type": "code",
   "execution_count": 87,
   "id": "36ac29f4",
   "metadata": {
    "pycharm": {
     "name": "#%%\n"
    }
   },
   "outputs": [
    {
     "name": "stderr",
     "output_type": "stream",
     "text": [
      "                                                                                \r"
     ]
    },
    {
     "data": {
      "text/plain": [
       "[('global', 5000.0)]"
      ]
     },
     "execution_count": 87,
     "metadata": {},
     "output_type": "execute_result"
    }
   ],
   "source": [
    "# This is just for local development, you can test different transformations here\n",
    "sensor_measurements\\\n",
    "    .flatMap(lambda sensor_measurements: [(\"global\",sensor_measurements[1])]) \\\n",
    "    .reduceByKey(lambda a,b: max(a,b)) \\\n",
    "    .collect()"
   ]
  },
  {
   "cell_type": "code",
   "execution_count": 88,
   "id": "f0f51620",
   "metadata": {
    "pycharm": {
     "name": "#%%\n"
    }
   },
   "outputs": [],
   "source": [
    "def a2_t4b_compute_global_max_value(sensor_measurements):\n",
    "    # IMPLEMENT ME\n",
    "    return sensor_measurements\\\n",
    "    .flatMap(lambda sensor_measurements: [(\"global\",sensor_measurements[1])]) \\\n",
    "    .reduceByKey(lambda a,b: max(a,b))"
   ]
  },
  {
   "cell_type": "markdown",
   "id": "a445aff7",
   "metadata": {
    "pycharm": {
     "name": "#%% md\n"
    }
   },
   "source": [
    "Execute the following cell to test your Spark program locally:"
   ]
  },
  {
   "cell_type": "code",
   "execution_count": 89,
   "id": "79012fca",
   "metadata": {
    "pycharm": {
     "name": "#%%\n"
    }
   },
   "outputs": [
    {
     "name": "stderr",
     "output_type": "stream",
     "text": [
      "                                                                                \r"
     ]
    },
    {
     "name": "stdout",
     "output_type": "stream",
     "text": [
      "\n",
      "RESULT VERIFICATION:\n",
      "  PASS: Key [global] has expected value!\n"
     ]
    }
   ],
   "source": [
    "result = a2_t4b_compute_global_max_value(sensor_measurements)\n",
    "verify_locally_from_rdd(result, 1, [(\"global\", 5000)])"
   ]
  },
  {
   "cell_type": "code",
   "execution_count": 90,
   "id": "d8f431f8",
   "metadata": {
    "pycharm": {
     "name": "#%%\n"
    }
   },
   "outputs": [
    {
     "name": "stdout",
     "output_type": "stream",
     "text": [
      "Running local tests...\n"
     ]
    },
    {
     "name": "stderr",
     "output_type": "stream",
     "text": [
      "                                                                                \r"
     ]
    },
    {
     "name": "stdout",
     "output_type": "stream",
     "text": [
      "a2_t4b_compute_global_max_value successfully passed local tests\n",
      "Running remote test...\n"
     ]
    },
    {
     "name": "stderr",
     "output_type": "stream",
     "text": [
      "[Stage 47:==============================================>           (4 + 1) / 5]\r"
     ]
    },
    {
     "name": "stdout",
     "output_type": "stream",
     "text": [
      "Test was successful. Congratulations!\n"
     ]
    },
    {
     "name": "stderr",
     "output_type": "stream",
     "text": [
      "                                                                                \r"
     ]
    }
   ],
   "source": [
    "am.test_student_function(a2_t4b_compute_global_max_value)"
   ]
  },
  {
   "cell_type": "markdown",
   "id": "0cfc98ef",
   "metadata": {
    "pycharm": {
     "name": "#%% md\n"
    }
   },
   "source": [
    "### Task 5 - Movie stats again\n",
    "\n",
    "Next, we also revisit our movie stats task from before. First, we turn the data into an RDD:\n"
   ]
  },
  {
   "cell_type": "code",
   "execution_count": 91,
   "id": "db134ba8",
   "metadata": {
    "pycharm": {
     "name": "#%%\n"
    }
   },
   "outputs": [],
   "source": [
    "movie_stats = spark.sparkContext.parallelize([\n",
    "    (\"MovieA\", [(1, 100), (2, 20), (3, \"50\")]),\n",
    "    (\"MovieC\", [(1, 100), (2, \"250\"), (3, 100), (4, \"120\")]),        \n",
    "    (\"MovieB\", [(1, 1000), (2, 250)]),\n",
    "    (\"MovieA\", [(4, 50), (5, \"10\"), (6, 0)]),\n",
    "    (\"MovieB\", [(3, 0), (4, \"260\")]),  \n",
    "    (\"MovieC\", [(5, \"180\")]),\n",
    "])"
   ]
  },
  {
   "cell_type": "markdown",
   "id": "fa1f6439",
   "metadata": {
    "pycharm": {
     "name": "#%% md\n"
    }
   },
   "source": [
    "Please write a Spark program to compute an RDD containing the maximum amount of visitors per week per movie (but ignore the first week of each movie). Implement your code in the `compute_max_weekly_visitors` function (and change the return statement).\n",
    "\n",
    "Note that you can use the next cell for locally trying out some Spark code, before you fill in your solution into the `compute_max_weekly_visitors` function."
   ]
  },
  {
   "cell_type": "code",
   "execution_count": 101,
   "id": "3cefe3a1",
   "metadata": {
    "pycharm": {
     "name": "#%%\n"
    }
   },
   "outputs": [
    {
     "name": "stderr",
     "output_type": "stream",
     "text": [
      "                                                                                \r"
     ]
    },
    {
     "data": {
      "text/plain": [
       "[('MovieA', 50), ('MovieC', 250), ('MovieB', 260)]"
      ]
     },
     "execution_count": 101,
     "metadata": {},
     "output_type": "execute_result"
    }
   ],
   "source": [
    "# This is just for local development, you can test different transformations here\n",
    "movie_stats\\\n",
    "    .flatMap(lambda entry: [(entry[0], int(count)) for week, count in entry[1] if week != 1]) \\\n",
    "    .reduceByKey(lambda a,b: max(a,b)) \\\n",
    "    .collect()"
   ]
  },
  {
   "cell_type": "code",
   "execution_count": 104,
   "id": "d2822fa6",
   "metadata": {
    "pycharm": {
     "name": "#%%\n"
    }
   },
   "outputs": [],
   "source": [
    "def a2_t5_compute_max_weekly_visitors(movie_stats):\n",
    "    # IMPLEMENT ME    \n",
    "    return movie_stats\\\n",
    "    .flatMap(lambda entry: [(entry[0], int(count)) for week, count in entry[1] if week != 1]) \\\n",
    "    .reduceByKey(lambda a,b: max(a,b))"
   ]
  },
  {
   "cell_type": "markdown",
   "id": "08677e99",
   "metadata": {
    "pycharm": {
     "name": "#%% md\n"
    }
   },
   "source": [
    "Execute the following cell to test your Spark program locally:"
   ]
  },
  {
   "cell_type": "code",
   "execution_count": 105,
   "id": "31d22185",
   "metadata": {
    "pycharm": {
     "name": "#%%\n"
    }
   },
   "outputs": [
    {
     "name": "stderr",
     "output_type": "stream",
     "text": [
      "                                                                                \r"
     ]
    },
    {
     "name": "stdout",
     "output_type": "stream",
     "text": [
      "\n",
      "RESULT VERIFICATION:\n",
      "  PASS: Key [MovieA] has expected value!\n",
      "  PASS: Key [MovieB] has expected value!\n",
      "  PASS: Key [MovieC] has expected value!\n"
     ]
    }
   ],
   "source": [
    "result = a2_t5_compute_max_weekly_visitors(movie_stats)\n",
    "verify_locally_from_rdd(result, 3, [('MovieA', 50), ('MovieB', 260), ('MovieC', 250)])"
   ]
  },
  {
   "cell_type": "code",
   "execution_count": 106,
   "id": "6962c83d",
   "metadata": {
    "pycharm": {
     "name": "#%%\n"
    }
   },
   "outputs": [
    {
     "name": "stdout",
     "output_type": "stream",
     "text": [
      "Running local tests...\n"
     ]
    },
    {
     "name": "stderr",
     "output_type": "stream",
     "text": [
      "[Stage 71:===================>                                      (1 + 1) / 3]\r"
     ]
    },
    {
     "name": "stdout",
     "output_type": "stream",
     "text": [
      "a2_t5_compute_max_weekly_visitors successfully passed local tests\n",
      "Running remote test...\n"
     ]
    },
    {
     "name": "stderr",
     "output_type": "stream",
     "text": [
      "[Stage 73:====================================>                     (5 + 1) / 8]\r"
     ]
    },
    {
     "name": "stdout",
     "output_type": "stream",
     "text": [
      "Test was successful. Congratulations!\n"
     ]
    },
    {
     "name": "stderr",
     "output_type": "stream",
     "text": [
      "                                                                                \r"
     ]
    }
   ],
   "source": [
    "am.test_student_function(a2_t5_compute_max_weekly_visitors)"
   ]
  },
  {
   "cell_type": "markdown",
   "id": "bb23c0a1",
   "metadata": {
    "pycharm": {
     "name": "#%% md\n"
    }
   },
   "source": [
    "# Part C - Spark SQL\n",
    "\n",
    "In the final part of this assignment, we explore how Spark unifies relational processing and dataflow computation via [SparkSQL](https://spark.apache.org/docs/3.2.1/sql-programming-guide.html). Spark has a distributed version of the well-known dataframes and allows us to query them with SQL.\n",
    "\n",
    "Be sure to consult the [overview over PySpark's dataframe API](https://spark.apache.org/docs/3.2.1/api/python/reference/pyspark.sql.html#dataframe-apis) for the following tasks.\n",
    "\n",
    "\n",
    "Let us first define two dataframes. They might remind you of the tables in the previous assignment."
   ]
  },
  {
   "cell_type": "code",
   "execution_count": 107,
   "id": "9caf3eff",
   "metadata": {
    "pycharm": {
     "name": "#%%\n"
    }
   },
   "outputs": [
    {
     "name": "stderr",
     "output_type": "stream",
     "text": [
      "                                                                                \r"
     ]
    }
   ],
   "source": [
    "from pyspark.sql import Row\n",
    "\n",
    "customers = spark.sparkContext.parallelize([\n",
    "    Row(customer_id='1122334455', firstname='Ann', lastname='O\\'Brien', city='Rotterdam'),\n",
    "    Row(customer_id='1231231231', firstname='John', lastname='Doe', city='Amsterdam'), \n",
    "    Row(customer_id='1234567890', firstname='Paul', lastname='Murphy', city='Diemen'), \n",
    "    Row(customer_id='9876543210', firstname='Jack', lastname='Murphy', city='Utrecht'), \n",
    "    Row(customer_id='9999999999', firstname='Norah', lastname='Jones', city='Amsterdam')\n",
    "], 2).toDF()  \n",
    "\n",
    "sales = spark.sparkContext.parallelize([\n",
    "    Row(customer_id='1122334455', model='2010', quantity=1, paid=2300, type_of_payment='mastercard credit'), \n",
    "    Row(customer_id='1122334455', model='3001', quantity=1, paid=99, type_of_payment='cash'), \n",
    "    Row(customer_id='1231231231', model='2002', quantity=2, paid=1898, type_of_payment='visa credit'), \n",
    "    Row(customer_id='1231231231', model='3002', quantity=1, paid=239, type_of_payment='cash'), \n",
    "    Row(customer_id='1234567890', model='1001', quantity=1, paid=1902, type_of_payment='mastercard credit'), \n",
    "    Row(customer_id='9876543210', model='1007', quantity=1, paid=510, type_of_payment='visa debit'), \n",
    "    Row(customer_id='9876543210', model='1007', quantity=3, paid=1530, type_of_payment='visa debit'), \n",
    "    Row(customer_id='9876543210', model='2002', quantity=1, paid=949, type_of_payment='visa debit'), \n",
    "    Row(customer_id='9999999999', model='1007', quantity=1, paid=459, type_of_payment='visa credit'), \n",
    "    Row(customer_id='9999999999', model='3007', quantity=2, paid=360, type_of_payment='visa credit')\n",
    "], 2).toDF()     "
   ]
  },
  {
   "cell_type": "markdown",
   "id": "4caa20ef",
   "metadata": {
    "pycharm": {
     "name": "#%% md\n"
    }
   },
   "source": [
    "Spark dataframes have a built-in method `show` which allows us to take a look at the first rows of the dataframe. We can use this to inspect our sales and customer data. It looks a lot like relational tables."
   ]
  },
  {
   "cell_type": "code",
   "execution_count": 108,
   "id": "41c12099",
   "metadata": {
    "pycharm": {
     "name": "#%%\n"
    }
   },
   "outputs": [
    {
     "name": "stderr",
     "output_type": "stream",
     "text": [
      "                                                                                \r"
     ]
    },
    {
     "name": "stdout",
     "output_type": "stream",
     "text": [
      "+-----------+---------+--------+---------+\n",
      "|customer_id|firstname|lastname|     city|\n",
      "+-----------+---------+--------+---------+\n",
      "| 1122334455|      Ann| O'Brien|Rotterdam|\n",
      "| 1231231231|     John|     Doe|Amsterdam|\n",
      "| 1234567890|     Paul|  Murphy|   Diemen|\n",
      "| 9876543210|     Jack|  Murphy|  Utrecht|\n",
      "| 9999999999|    Norah|   Jones|Amsterdam|\n",
      "+-----------+---------+--------+---------+\n",
      "\n"
     ]
    }
   ],
   "source": [
    "customers.show()"
   ]
  },
  {
   "cell_type": "code",
   "execution_count": 109,
   "id": "33cb99f8",
   "metadata": {
    "pycharm": {
     "name": "#%%\n"
    }
   },
   "outputs": [
    {
     "name": "stderr",
     "output_type": "stream",
     "text": [
      "                                                                                \r"
     ]
    },
    {
     "name": "stdout",
     "output_type": "stream",
     "text": [
      "+-----------+-----+--------+----+-----------------+\n",
      "|customer_id|model|quantity|paid|  type_of_payment|\n",
      "+-----------+-----+--------+----+-----------------+\n",
      "| 1122334455| 2010|       1|2300|mastercard credit|\n",
      "| 1122334455| 3001|       1|  99|             cash|\n",
      "| 1231231231| 2002|       2|1898|      visa credit|\n",
      "| 1231231231| 3002|       1| 239|             cash|\n",
      "| 1234567890| 1001|       1|1902|mastercard credit|\n",
      "| 9876543210| 1007|       1| 510|       visa debit|\n",
      "| 9876543210| 1007|       3|1530|       visa debit|\n",
      "| 9876543210| 2002|       1| 949|       visa debit|\n",
      "| 9999999999| 1007|       1| 459|      visa credit|\n",
      "| 9999999999| 3007|       2| 360|      visa credit|\n",
      "+-----------+-----+--------+----+-----------------+\n",
      "\n"
     ]
    }
   ],
   "source": [
    "sales.show()"
   ]
  },
  {
   "cell_type": "markdown",
   "id": "e82cf017",
   "metadata": {
    "pycharm": {
     "name": "#%% md\n"
    }
   },
   "source": [
    "Now we can use the SparkSQL API to transform these dataframes with SQL. As an example, let's assume we are interested in the number of customers per city. In a relational database, we could query for this quantity like this:\n",
    "\n",
    "```\n",
    "SELECT city, COUNT(*)\n",
    "FROM customers\n",
    "GROUP BY city\n",
    "```\n",
    "\n",
    "Spark allows us to write a dataflow program that produces identical results to the query and also looks very much a like:"
   ]
  },
  {
   "cell_type": "code",
   "execution_count": 110,
   "id": "3b33ead9",
   "metadata": {
    "pycharm": {
     "name": "#%%\n"
    }
   },
   "outputs": [],
   "source": [
    "cities_with_counts = customers\\\n",
    "  .groupby(\"city\")\\\n",
    "  .count()"
   ]
  },
  {
   "cell_type": "markdown",
   "id": "d8072745",
   "metadata": {
    "pycharm": {
     "name": "#%% md\n"
    }
   },
   "source": [
    "We can again use `show` to inspect the result."
   ]
  },
  {
   "cell_type": "code",
   "execution_count": 111,
   "id": "6c7c8e3c",
   "metadata": {
    "pycharm": {
     "name": "#%%\n"
    }
   },
   "outputs": [
    {
     "name": "stderr",
     "output_type": "stream",
     "text": [
      "                                                                                \r"
     ]
    },
    {
     "name": "stdout",
     "output_type": "stream",
     "text": [
      "+---------+-----+\n",
      "|     city|count|\n",
      "+---------+-----+\n",
      "|Rotterdam|    1|\n",
      "|Amsterdam|    2|\n",
      "|   Diemen|    1|\n",
      "|  Utrecht|    1|\n",
      "+---------+-----+\n",
      "\n"
     ]
    }
   ],
   "source": [
    "cities_with_counts.show()"
   ]
  },
  {
   "cell_type": "markdown",
   "id": "f964d16d",
   "metadata": {
    "pycharm": {
     "name": "#%% md\n"
    }
   },
   "source": [
    "Let's look at another example, what are the distinct types of payment in the sales data? In SQL, a corresponding query would look like this:\n",
    "\n",
    "```\n",
    "SELECT DISTINCT type_of_payment\n",
    "FROM sales\n",
    "```\n",
    "\n",
    "Again, the corresponding Spark code is very similar:"
   ]
  },
  {
   "cell_type": "code",
   "execution_count": 164,
   "id": "6e04728a",
   "metadata": {
    "pycharm": {
     "name": "#%%\n"
    }
   },
   "outputs": [
    {
     "name": "stderr",
     "output_type": "stream",
     "text": [
      "                                                                                \r"
     ]
    },
    {
     "name": "stdout",
     "output_type": "stream",
     "text": [
      "+-----------------+\n",
      "|  type_of_payment|\n",
      "+-----------------+\n",
      "|      visa credit|\n",
      "|             cash|\n",
      "|mastercard credit|\n",
      "|       visa debit|\n",
      "+-----------------+\n",
      "\n"
     ]
    }
   ],
   "source": [
    "payment_types = sales\\\n",
    "    .select(['type_of_payment'])\\\n",
    "    .distinct()\\\n",
    "    .show()"
   ]
  },
  {
   "cell_type": "markdown",
   "id": "6050eede",
   "metadata": {
    "pycharm": {
     "name": "#%% md\n"
    }
   },
   "source": [
    "Before we give you more tasks, we first define another helper function to verify SparkSQL results"
   ]
  },
  {
   "cell_type": "code",
   "execution_count": 115,
   "id": "141af937",
   "metadata": {
    "pycharm": {
     "name": "#%%\n"
    }
   },
   "outputs": [],
   "source": [
    "def verify_sql_result_locally(observed_dataframe, expected_rows):\n",
    "    observed_rows = observed_dataframe.collect()\n",
    "    if len(observed_rows) != len(expected_rows):\n",
    "        print(f\"ERROR: Expected {len(expected_rows)} rows in the result, but found {len(observed_rows)}!\")\n",
    "    \n",
    "    for expected_row in expected_rows:\n",
    "        if not expected_row in observed_rows:\n",
    "            print(f\"ERROR: Row {expected_row} missing from result!\")\n",
    "        else:    \n",
    "            print(f\"PASS: Encountered expected row {expected_row}\")"
   ]
  },
  {
   "cell_type": "markdown",
   "id": "e7dbf045",
   "metadata": {
    "pycharm": {
     "name": "#%% md\n"
    }
   },
   "source": [
    "### Task 6 - Filter customers\n",
    "\n",
    "Write a SparkSQL program to find the distinct ids of all customers who made a visa credit payment of less than 1000 euros. Implement the `customers_with_certain_visa_payment` function, and make it return the correct Dataframe.\n",
    "\n",
    "Note that you can use the next cell for locally trying out some Spark code, before you fill in your solution into the `customers_with_certain_visa_payment` function."
   ]
  },
  {
   "cell_type": "code",
   "execution_count": 127,
   "id": "f2598ce1",
   "metadata": {
    "pycharm": {
     "name": "#%%\n"
    }
   },
   "outputs": [
    {
     "name": "stderr",
     "output_type": "stream",
     "text": [
      "[Stage 97:>                                                         (0 + 1) / 1]\r"
     ]
    },
    {
     "name": "stdout",
     "output_type": "stream",
     "text": [
      "+-----------+\n",
      "|customer_id|\n",
      "+-----------+\n",
      "| 9999999999|\n",
      "+-----------+\n",
      "\n"
     ]
    },
    {
     "name": "stderr",
     "output_type": "stream",
     "text": [
      "                                                                                \r"
     ]
    }
   ],
   "source": [
    "# This is just for local development, you can test different transformations here\n",
    "sales\\\n",
    "    .filter((sales.paid < 1000) & (sales.type_of_payment == \"visa credit\")) \\\n",
    "    .select(sales.customer_id)\\\n",
    "    .distinct()\\\n",
    "    .show()"
   ]
  },
  {
   "cell_type": "code",
   "execution_count": 130,
   "id": "ae1374a1",
   "metadata": {
    "pycharm": {
     "name": "#%%\n"
    }
   },
   "outputs": [],
   "source": [
    "def a2_t6_customers_with_certain_visa_payment(sales):\n",
    "    # IMPLEMENT ME    \n",
    "    return sales\\\n",
    "    .filter((sales.paid < 1000) & (sales.type_of_payment == \"visa credit\")) \\\n",
    "    .select(sales.customer_id)\\\n",
    "    .distinct()"
   ]
  },
  {
   "cell_type": "markdown",
   "id": "27ebe969",
   "metadata": {
    "pycharm": {
     "name": "#%% md\n"
    }
   },
   "source": [
    "Execute the following cell to test your Spark SQL program locally:"
   ]
  },
  {
   "cell_type": "code",
   "execution_count": 131,
   "id": "c72fc683",
   "metadata": {
    "pycharm": {
     "name": "#%%\n"
    }
   },
   "outputs": [
    {
     "name": "stderr",
     "output_type": "stream",
     "text": [
      "[Stage 99:=============================>                            (1 + 1) / 2]\r"
     ]
    },
    {
     "name": "stdout",
     "output_type": "stream",
     "text": [
      "PASS: Encountered expected row Row(customer_id='9999999999')\n"
     ]
    },
    {
     "name": "stderr",
     "output_type": "stream",
     "text": [
      "                                                                                \r"
     ]
    }
   ],
   "source": [
    "result = a2_t6_customers_with_certain_visa_payment(sales)\n",
    "verify_sql_result_locally(result, [Row(customer_id='9999999999')])"
   ]
  },
  {
   "cell_type": "code",
   "execution_count": 132,
   "id": "b17d4a53",
   "metadata": {
    "pycharm": {
     "name": "#%%\n"
    }
   },
   "outputs": [
    {
     "name": "stdout",
     "output_type": "stream",
     "text": [
      "Running local tests...\n"
     ]
    },
    {
     "name": "stderr",
     "output_type": "stream",
     "text": [
      "[Stage 126:>                                                        (0 + 1) / 1]\r"
     ]
    },
    {
     "name": "stdout",
     "output_type": "stream",
     "text": [
      "a2_t6_customers_with_certain_visa_payment successfully passed local tests\n",
      "Running remote test...\n"
     ]
    },
    {
     "name": "stderr",
     "output_type": "stream",
     "text": [
      "                                                                                \r"
     ]
    },
    {
     "name": "stdout",
     "output_type": "stream",
     "text": [
      "Test was successful. Congratulations!\n"
     ]
    }
   ],
   "source": [
    "am.test_student_function(a2_t6_customers_with_certain_visa_payment)"
   ]
  },
  {
   "cell_type": "markdown",
   "id": "4e6457b1",
   "metadata": {
    "pycharm": {
     "name": "#%% md\n"
    }
   },
   "source": [
    "### Task 7 - Payment types in Amsterdam\n",
    "\n",
    "Write a SparkSQL program to find the payment types used by customers in a given city. No type should occur more than once. Implement the `find_payment_types` function to return the correct Dataframe. You can use Spark's `join` function to join the two tables, you can find the documentation [here](https://spark.apache.org/docs/3.2.1/api/python/reference/api/pyspark.sql.DataFrame.join.html?highlight=join#pyspark.sql.DataFrame.join).\n",
    "\n",
    "Note that you can use the next cell for locally trying out some Spark code, before you fill in your solution into the `find_payment_types` function."
   ]
  },
  {
   "cell_type": "code",
   "execution_count": 175,
   "id": "a71b2d1d",
   "metadata": {
    "pycharm": {
     "name": "#%%\n"
    }
   },
   "outputs": [
    {
     "name": "stderr",
     "output_type": "stream",
     "text": [
      "[Stage 431:>                                                        (0 + 1) / 2]\r"
     ]
    },
    {
     "name": "stdout",
     "output_type": "stream",
     "text": [
      "+---------------+\n",
      "|type_of_payment|\n",
      "+---------------+\n",
      "|    visa credit|\n",
      "|           cash|\n",
      "+---------------+\n",
      "\n"
     ]
    },
    {
     "name": "stderr",
     "output_type": "stream",
     "text": [
      "                                                                                \r"
     ]
    }
   ],
   "source": [
    "# This is just for local development, you can test different transformations here\n",
    "sales\\\n",
    "    .join(customers, on=\"customer_id\")\\\n",
    "    .filter(customers.city==\"Amsterdam\")\\\n",
    "    .select(sales.type_of_payment)\\\n",
    "    .distinct()\\\n",
    "    .show()"
   ]
  },
  {
   "cell_type": "code",
   "execution_count": 144,
   "id": "d21e0328",
   "metadata": {
    "pycharm": {
     "name": "#%%\n"
    }
   },
   "outputs": [],
   "source": [
    "def a2_t7_find_payment_types(sales, city, customers):\n",
    "    # IMPLEMENT ME\n",
    "    return sales\\\n",
    "    .join(customers, on=\"customer_id\")\\\n",
    "    .filter(customers.city==\"Amsterdam\")\\\n",
    "    .select(sales.type_of_payment)\\\n",
    "    .distinct()"
   ]
  },
  {
   "cell_type": "markdown",
   "id": "250bf05d",
   "metadata": {
    "pycharm": {
     "name": "#%% md\n"
    }
   },
   "source": [
    "Execute the following cell to test your Spark SQL program locally:"
   ]
  },
  {
   "cell_type": "code",
   "execution_count": 145,
   "id": "81932945",
   "metadata": {
    "pycharm": {
     "name": "#%%\n"
    }
   },
   "outputs": [
    {
     "name": "stderr",
     "output_type": "stream",
     "text": [
      "                                                                                \r"
     ]
    },
    {
     "name": "stdout",
     "output_type": "stream",
     "text": [
      "PASS: Encountered expected row Row(type_of_payment='visa credit')\n",
      "PASS: Encountered expected row Row(type_of_payment='cash')\n"
     ]
    }
   ],
   "source": [
    "result = a2_t7_find_payment_types(sales, \"Amsterdam\", customers)\n",
    "verify_sql_result_locally(result, [Row(type_of_payment='visa credit'), Row(type_of_payment='cash')])"
   ]
  },
  {
   "cell_type": "code",
   "execution_count": 166,
   "id": "a4954e68",
   "metadata": {
    "pycharm": {
     "name": "#%%\n"
    }
   },
   "outputs": [
    {
     "name": "stdout",
     "output_type": "stream",
     "text": [
      "Running local tests...\n"
     ]
    },
    {
     "name": "stderr",
     "output_type": "stream",
     "text": [
      "                                                                                \r"
     ]
    },
    {
     "name": "stdout",
     "output_type": "stream",
     "text": [
      "a2_t7_find_payment_types successfully passed local tests\n",
      "Running remote test...\n"
     ]
    },
    {
     "name": "stderr",
     "output_type": "stream",
     "text": [
      "[Stage 404:=========================================================(6 + 0) / 6]\r"
     ]
    },
    {
     "name": "stdout",
     "output_type": "stream",
     "text": [
      "Test was successful. Congratulations!\n"
     ]
    },
    {
     "name": "stderr",
     "output_type": "stream",
     "text": [
      "                                                                                \r"
     ]
    }
   ],
   "source": [
    "am.test_student_function(a2_t7_find_payment_types)"
   ]
  },
  {
   "cell_type": "markdown",
   "id": "c486164f",
   "metadata": {
    "pycharm": {
     "name": "#%% md\n"
    }
   },
   "source": [
    "### Task 8 - Number of sales and money per city\n",
    "\n",
    "Write a spark SQL program that computes the amount of money paid per city.  Implement the `quantities_per_city` function to return the correct Dataframe with the columns __city__ and __amount__. To find the aggregation function you need for this, you can look at the `.groupby()` [documentation](https://spark.apache.org/docs/3.2.1/api/python/reference/api/pyspark.sql.DataFrame.groupBy.html). Depending on how you do this, you may want to use Spark's `withColumnRenamed` function to rename columns where appropriate.\n",
    "\n",
    "Note that you can use the next cell for locally trying out some Spark code, before you fill in your solution into the `quantities_per_city` function."
   ]
  },
  {
   "cell_type": "code",
   "execution_count": 183,
   "id": "cf294e88",
   "metadata": {
    "pycharm": {
     "name": "#%%\n"
    }
   },
   "outputs": [
    {
     "name": "stderr",
     "output_type": "stream",
     "text": [
      "[Stage 476:============================>                            (1 + 1) / 2]\r"
     ]
    },
    {
     "name": "stdout",
     "output_type": "stream",
     "text": [
      "+---------+------+\n",
      "|     city|amount|\n",
      "+---------+------+\n",
      "|   Diemen|  1902|\n",
      "|Rotterdam|  2399|\n",
      "|Amsterdam|  2956|\n",
      "|  Utrecht|  2989|\n",
      "+---------+------+\n",
      "\n"
     ]
    },
    {
     "name": "stderr",
     "output_type": "stream",
     "text": [
      "                                                                                \r"
     ]
    }
   ],
   "source": [
    "# This is just for local development, you can test different transformations here\n",
    "import pyspark.sql.functions as F\n",
    "sales\\\n",
    "    .join(customers, on=\"customer_id\")\\\n",
    "    .groupBy(\"city\")\\\n",
    "    .agg(F.sum(\"paid\").alias('amount'))\\\n",
    "    .show()"
   ]
  },
  {
   "cell_type": "code",
   "execution_count": 184,
   "id": "471098fc-9135-4596-b2ad-7c24ae2325c5",
   "metadata": {},
   "outputs": [
    {
     "name": "stderr",
     "output_type": "stream",
     "text": [
      "[Stage 488:>                                                        (0 + 1) / 1]\r"
     ]
    },
    {
     "name": "stdout",
     "output_type": "stream",
     "text": [
      "+---------+---------+\n",
      "|     city|sum(paid)|\n",
      "+---------+---------+\n",
      "|   Diemen|     1902|\n",
      "|Rotterdam|     2399|\n",
      "|Amsterdam|     2956|\n",
      "|  Utrecht|     2989|\n",
      "+---------+---------+\n",
      "\n"
     ]
    },
    {
     "name": "stderr",
     "output_type": "stream",
     "text": [
      "                                                                                \r"
     ]
    }
   ],
   "source": [
    "sales\\\n",
    "    .join(customers, on=\"customer_id\")\\\n",
    "    .groupby(\"city\")\\\n",
    "    .sum(\"paid\").alias(\"amount\")\\\n",
    "    .show()"
   ]
  },
  {
   "cell_type": "code",
   "execution_count": 185,
   "id": "2525fcb6",
   "metadata": {
    "pycharm": {
     "name": "#%%\n"
    }
   },
   "outputs": [],
   "source": [
    "def a2_t8_quantities_per_city(sales, customers):\n",
    "    # IMPLEMENT ME\n",
    "    return sales\\\n",
    "    .join(customers, on=\"customer_id\")\\\n",
    "    .groupBy(\"city\")\\\n",
    "    .agg(sf.sum(\"paid\").alias('amount'))"
   ]
  },
  {
   "cell_type": "markdown",
   "id": "b317035d",
   "metadata": {
    "pycharm": {
     "name": "#%% md\n"
    }
   },
   "source": [
    "Execute the following cell to test your Spark SQL program locally:"
   ]
  },
  {
   "cell_type": "code",
   "execution_count": 186,
   "id": "bc647bf2",
   "metadata": {
    "pycharm": {
     "name": "#%%\n"
    }
   },
   "outputs": [
    {
     "name": "stderr",
     "output_type": "stream",
     "text": [
      "                                                                                \r"
     ]
    },
    {
     "name": "stdout",
     "output_type": "stream",
     "text": [
      "PASS: Encountered expected row Row(city='Diemen', amount=1902)\n",
      "PASS: Encountered expected row Row(city='Rotterdam', amount=2399)\n",
      "PASS: Encountered expected row Row(city='Amsterdam', amount=2956)\n",
      "PASS: Encountered expected row Row(city='Utrecht', amount=2989)\n"
     ]
    }
   ],
   "source": [
    "result = a2_t8_quantities_per_city(sales, customers)\n",
    "\n",
    "expected_rows = [\n",
    "    Row(city='Diemen', amount=1902),\n",
    "    Row(city='Rotterdam', amount=2399),\n",
    "    Row(city='Amsterdam', amount=2956),\n",
    "     Row(city='Utrecht', amount=2989)\n",
    "]\n",
    "\n",
    "verify_sql_result_locally(result, expected_rows)"
   ]
  },
  {
   "cell_type": "code",
   "execution_count": 163,
   "id": "54c8c71d",
   "metadata": {
    "pycharm": {
     "name": "#%%\n"
    }
   },
   "outputs": [
    {
     "name": "stdout",
     "output_type": "stream",
     "text": [
      "Running local tests...\n"
     ]
    },
    {
     "name": "stderr",
     "output_type": "stream",
     "text": [
      "[Stage 296:>                                                        (0 + 1) / 1]\r"
     ]
    },
    {
     "name": "stdout",
     "output_type": "stream",
     "text": [
      "a2_t8_quantities_per_city successfully passed local tests\n",
      "Running remote test...\n"
     ]
    },
    {
     "name": "stderr",
     "output_type": "stream",
     "text": [
      "                                                                                \r"
     ]
    },
    {
     "name": "stdout",
     "output_type": "stream",
     "text": [
      "Test was successful. Congratulations!\n"
     ]
    }
   ],
   "source": [
    "am.test_student_function(a2_t8_quantities_per_city)"
   ]
  },
  {
   "cell_type": "code",
   "execution_count": null,
   "id": "093ef58f",
   "metadata": {
    "pycharm": {
     "name": "#%%\n"
    }
   },
   "outputs": [],
   "source": []
  }
 ],
 "metadata": {
  "kernelspec": {
   "display_name": "Python 3 (ipykernel)",
   "language": "python",
   "name": "python3"
  },
  "language_info": {
   "codemirror_mode": {
    "name": "ipython",
    "version": 3
   },
   "file_extension": ".py",
   "mimetype": "text/x-python",
   "name": "python",
   "nbconvert_exporter": "python",
   "pygments_lexer": "ipython3",
   "version": "3.9.7"
  }
 },
 "nbformat": 4,
 "nbformat_minor": 5
}
